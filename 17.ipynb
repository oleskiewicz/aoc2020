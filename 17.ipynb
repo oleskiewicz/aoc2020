{
 "cells": [
  {
   "cell_type": "markdown",
   "metadata": {},
   "source": [
    "# day 17"
   ]
  },
  {
   "cell_type": "code",
   "execution_count": null,
   "metadata": {},
   "outputs": [],
   "source": [
    "from copy import deepcopy"
   ]
  },
  {
   "cell_type": "markdown",
   "metadata": {},
   "source": [
    "## part 1"
   ]
  },
  {
   "cell_type": "code",
   "execution_count": null,
   "metadata": {},
   "outputs": [],
   "source": [
    "g = \"\"\".#.\n",
    "..#\n",
    "###\"\"\""
   ]
  },
  {
   "cell_type": "code",
   "execution_count": null,
   "metadata": {},
   "outputs": [],
   "source": [
    "def parse(grid):\n",
    "    x, y = 0, 0\n",
    "    cells = set()\n",
    "    for line in grid.split(\"\\n\"):\n",
    "        y = 0\n",
    "        for char in line:\n",
    "            if char == '#':\n",
    "                cells.add((x, y, 0))\n",
    "            y += 1\n",
    "        x += 1\n",
    "    return cells"
   ]
  },
  {
   "cell_type": "code",
   "execution_count": null,
   "metadata": {},
   "outputs": [
    {
     "data": {
      "text/plain": [
       "{(0, 1, 0), (1, 2, 0), (2, 0, 0), (2, 1, 0), (2, 2, 0)}"
      ]
     },
     "execution_count": null,
     "metadata": {},
     "output_type": "execute_result"
    }
   ],
   "source": [
    "G = parse(g)\n",
    "G"
   ]
  },
  {
   "cell_type": "markdown",
   "metadata": {},
   "source": [
    "Get grid edges:"
   ]
  },
  {
   "cell_type": "code",
   "execution_count": null,
   "metadata": {},
   "outputs": [],
   "source": [
    "def dim_min(G, d): return min(G, key=lambda x: x[d])[d]\n",
    "def dim_max(G, d): return max(G, key=lambda x: x[d])[d]\n",
    "def dim_iter(G, d):\n",
    "    for i in range(dim_min(G, d) - 1, dim_max(G, d) + 2):\n",
    "        yield i"
   ]
  },
  {
   "cell_type": "markdown",
   "metadata": {},
   "source": [
    "Get 26 neighbours of each cell:"
   ]
  },
  {
   "cell_type": "code",
   "execution_count": null,
   "metadata": {},
   "outputs": [],
   "source": [
    "def neighbours(x, y, z):\n",
    "    return [\n",
    "        (_x, _y, _z)\n",
    "        for _x in [x - 1, x, x + 1]\n",
    "        for _y in [y - 1, y, y + 1]\n",
    "        for _z in [z - 1, z, z + 1]\n",
    "        if (_x, _y, _z) != (x, y, z)\n",
    "    ]"
   ]
  },
  {
   "cell_type": "code",
   "execution_count": null,
   "metadata": {},
   "outputs": [],
   "source": [
    "def active_neighbours(G, x, y, z):\n",
    "    c = 0\n",
    "    for n in neighbours(x, y, z):\n",
    "        if n in G:\n",
    "            c += 1\n",
    "    return c"
   ]
  },
  {
   "cell_type": "markdown",
   "metadata": {},
   "source": [
    "And check if we can iterate over them:"
   ]
  },
  {
   "cell_type": "code",
   "execution_count": null,
   "metadata": {},
   "outputs": [
    {
     "name": "stdout",
     "output_type": "stream",
     "text": [
      "-1, -1, -1 :  . 0\n",
      "-1, -1,  0 :  . 0\n",
      "-1, -1,  1 :  . 0\n",
      "-1,  0, -1 :  . 1\n",
      "-1,  0,  0 :  . 1\n",
      "-1,  0,  1 :  . 1\n",
      "-1,  1, -1 :  . 1\n",
      "-1,  1,  0 :  . 1\n",
      "-1,  1,  1 :  . 1\n",
      "-1,  2, -1 :  . 1\n",
      "-1,  2,  0 :  . 1\n",
      "-1,  2,  1 :  . 1\n",
      "-1,  3, -1 :  . 0\n",
      "-1,  3,  0 :  . 0\n",
      "-1,  3,  1 :  . 0\n",
      " 0, -1, -1 :  . 0\n",
      " 0, -1,  0 :  . 0\n",
      " 0, -1,  1 :  . 0\n",
      " 0,  0, -1 :  . 1\n",
      " 0,  0,  0 :  . 1\n",
      " 0,  0,  1 :  . 1\n",
      " 0,  1, -1 :  . 2\n",
      " 0,  1,  0 :  # 1\n",
      " 0,  1,  1 :  . 2\n",
      " 0,  2, -1 :  . 2\n",
      " 0,  2,  0 :  . 2\n",
      " 0,  2,  1 :  . 2\n",
      " 0,  3, -1 :  . 1\n",
      " 0,  3,  0 :  . 1\n",
      " 0,  3,  1 :  . 1\n",
      " 1, -1, -1 :  . 1\n",
      " 1, -1,  0 :  . 1\n",
      " 1, -1,  1 :  . 1\n",
      " 1,  0, -1 :  . 3\n",
      " 1,  0,  0 :  . 3\n",
      " 1,  0,  1 :  . 3\n",
      " 1,  1, -1 :  . 5\n",
      " 1,  1,  0 :  . 5\n",
      " 1,  1,  1 :  . 5\n",
      " 1,  2, -1 :  . 4\n",
      " 1,  2,  0 :  # 3\n",
      " 1,  2,  1 :  . 4\n",
      " 1,  3, -1 :  . 2\n",
      " 1,  3,  0 :  . 2\n",
      " 1,  3,  1 :  . 2\n",
      " 2, -1, -1 :  . 1\n",
      " 2, -1,  0 :  . 1\n",
      " 2, -1,  1 :  . 1\n",
      " 2,  0, -1 :  . 2\n",
      " 2,  0,  0 :  # 1\n",
      " 2,  0,  1 :  . 2\n",
      " 2,  1, -1 :  . 4\n",
      " 2,  1,  0 :  # 3\n",
      " 2,  1,  1 :  . 4\n",
      " 2,  2, -1 :  . 3\n",
      " 2,  2,  0 :  # 2\n",
      " 2,  2,  1 :  . 3\n",
      " 2,  3, -1 :  . 2\n",
      " 2,  3,  0 :  . 2\n",
      " 2,  3,  1 :  . 2\n",
      " 3, -1, -1 :  . 1\n",
      " 3, -1,  0 :  . 1\n",
      " 3, -1,  1 :  . 1\n",
      " 3,  0, -1 :  . 2\n",
      " 3,  0,  0 :  . 2\n",
      " 3,  0,  1 :  . 2\n",
      " 3,  1, -1 :  . 3\n",
      " 3,  1,  0 :  . 3\n",
      " 3,  1,  1 :  . 3\n",
      " 3,  2, -1 :  . 2\n",
      " 3,  2,  0 :  . 2\n",
      " 3,  2,  1 :  . 2\n",
      " 3,  3, -1 :  . 1\n",
      " 3,  3,  0 :  . 1\n",
      " 3,  3,  1 :  . 1\n"
     ]
    }
   ],
   "source": [
    "for x in dim_iter(G, 0):\n",
    "    for y in dim_iter(G, 1):\n",
    "        for z in dim_iter(G, 2):\n",
    "            print(f\"{x:2d}, {y:2d}, {z:2d}\", ': ', '#' if (x, y, z) in G else '.', active_neighbours(G, x, y, z))"
   ]
  },
  {
   "cell_type": "markdown",
   "metadata": {},
   "source": [
    "Now apply the rules:\n",
    "- If a cube is active and exactly 2 or 3 of its neighbors are also active, the cube remains active. Otherwise, the cube becomes inactive.\n",
    "- If a cube is inactive but exactly 3 of its neighbors are active, the cube becomes active. Otherwise, the cube remains inactive."
   ]
  },
  {
   "cell_type": "code",
   "execution_count": null,
   "metadata": {},
   "outputs": [],
   "source": [
    "def evolve(G, num_cycles):\n",
    "    G2 = deepcopy(G)\n",
    "    for _ in range(num_cycles):\n",
    "        for x in dim_iter(G2, 0):\n",
    "            for y in dim_iter(G2, 1):\n",
    "                for z in dim_iter(G2, 2):\n",
    "                    a = active_neighbours(G2, x, y, z)\n",
    "                    if (x, y, z) in G2:\n",
    "                        if a not in (2, 3):\n",
    "                            G2.discard((x, y, z))\n",
    "                    else:\n",
    "                        if a == 3:\n",
    "                            G2.add((x, y, z))\n",
    "    return G2"
   ]
  },
  {
   "cell_type": "code",
   "execution_count": null,
   "metadata": {},
   "outputs": [
    {
     "data": {
      "text/plain": [
       "19"
      ]
     },
     "execution_count": null,
     "metadata": {},
     "output_type": "execute_result"
    }
   ],
   "source": [
    "len(evolve(G, 1))"
   ]
  },
  {
   "cell_type": "markdown",
   "metadata": {},
   "source": [
    "This is incorrect -- it looks like the problem lies in not applying the changes **at the same time**.  Elements are added to and removed from the grid during the loop, while they should be counted first, with rules applied later."
   ]
  },
  {
   "cell_type": "markdown",
   "metadata": {},
   "source": [
    "Second attempt:"
   ]
  },
  {
   "cell_type": "code",
   "execution_count": null,
   "metadata": {},
   "outputs": [],
   "source": [
    "def evolve(G, n):\n",
    "    G2 = deepcopy(G)\n",
    "    for _ in range(n):\n",
    "        ns = {}\n",
    "        for x in dim_iter(G2, 0):\n",
    "            for y in dim_iter(G2, 1):\n",
    "                for z in dim_iter(G2, 2):\n",
    "                    ns[(x, y, z)] = active_neighbours(G2, x, y, z)\n",
    "\n",
    "        for ((x, y, z), a) in ns.items():\n",
    "            if (x, y, z) in G2:\n",
    "                if a not in (2, 3):\n",
    "                    G2.discard((x, y, z))\n",
    "            else:\n",
    "                if a == 3:\n",
    "                    pass\n",
    "                    G2.add((x, y, z))\n",
    "    return G2"
   ]
  },
  {
   "cell_type": "code",
   "execution_count": null,
   "metadata": {},
   "outputs": [
    {
     "data": {
      "text/plain": [
       "11"
      ]
     },
     "execution_count": null,
     "metadata": {},
     "output_type": "execute_result"
    }
   ],
   "source": [
    "len(evolve(G, 1))"
   ]
  },
  {
   "cell_type": "markdown",
   "metadata": {},
   "source": [
    "As expected."
   ]
  },
  {
   "cell_type": "code",
   "execution_count": null,
   "metadata": {},
   "outputs": [],
   "source": [
    "assert len(evolve(G, 1)) == 11"
   ]
  },
  {
   "cell_type": "code",
   "execution_count": null,
   "metadata": {},
   "outputs": [],
   "source": [
    "def p1(G): return len(evolve(G, 6))"
   ]
  },
  {
   "cell_type": "code",
   "execution_count": null,
   "metadata": {},
   "outputs": [],
   "source": [
    "assert p1(G) == 112"
   ]
  },
  {
   "cell_type": "code",
   "execution_count": null,
   "metadata": {},
   "outputs": [
    {
     "data": {
      "text/plain": [
       "{(0, 0, 0),\n",
       " (0, 7, 0),\n",
       " (1, 0, 0),\n",
       " (1, 1, 0),\n",
       " (1, 3, 0),\n",
       " (1, 6, 0),\n",
       " (2, 0, 0),\n",
       " (2, 2, 0),\n",
       " (2, 4, 0),\n",
       " (2, 5, 0),\n",
       " (2, 6, 0),\n",
       " (3, 1, 0),\n",
       " (3, 2, 0),\n",
       " (4, 1, 0),\n",
       " (4, 2, 0),\n",
       " (4, 4, 0),\n",
       " (5, 0, 0),\n",
       " (5, 1, 0),\n",
       " (5, 3, 0),\n",
       " (6, 0, 0),\n",
       " (6, 1, 0),\n",
       " (6, 2, 0),\n",
       " (6, 3, 0),\n",
       " (6, 4, 0),\n",
       " (6, 6, 0),\n",
       " (7, 0, 0),\n",
       " (7, 1, 0),\n",
       " (7, 3, 0),\n",
       " (7, 5, 0),\n",
       " (7, 6, 0),\n",
       " (7, 7, 0)}"
      ]
     },
     "execution_count": null,
     "metadata": {},
     "output_type": "execute_result"
    }
   ],
   "source": [
    "g = \"\"\"#......#\n",
    "##.#..#.\n",
    "#.#.###.\n",
    ".##.....\n",
    ".##.#...\n",
    "##.#....\n",
    "#####.#.\n",
    "##.#.###\"\"\"\n",
    "G = parse(g)\n",
    "G"
   ]
  },
  {
   "cell_type": "code",
   "execution_count": null,
   "metadata": {},
   "outputs": [
    {
     "data": {
      "text/plain": [
       "271"
      ]
     },
     "execution_count": null,
     "metadata": {},
     "output_type": "execute_result"
    }
   ],
   "source": [
    "p1(G)"
   ]
  },
  {
   "cell_type": "markdown",
   "metadata": {},
   "source": [
    "## part 2\n",
    "Just add one more dimension:"
   ]
  },
  {
   "cell_type": "code",
   "execution_count": null,
   "metadata": {},
   "outputs": [],
   "source": [
    "def parse2(grid):\n",
    "    x, y = 0, 0\n",
    "    cells = set()\n",
    "    for line in grid.split(\"\\n\"):\n",
    "        y = 0\n",
    "        for char in line:\n",
    "            if char == '#':\n",
    "                cells.add((x, y, 0, 0))\n",
    "            y += 1\n",
    "        x += 1\n",
    "    return cells"
   ]
  },
  {
   "cell_type": "code",
   "execution_count": null,
   "metadata": {},
   "outputs": [],
   "source": [
    "def neighbours2(x, y, z, w):\n",
    "    return [\n",
    "        (_x, _y, _z, _w)\n",
    "        for _x in [x - 1, x, x + 1]\n",
    "        for _y in [y - 1, y, y + 1]\n",
    "        for _z in [z - 1, z, z + 1]\n",
    "        for _w in [w - 1, w, w + 1]\n",
    "        if (_x, _y, _z, _w) != (x, y, z, w)\n",
    "    ]"
   ]
  },
  {
   "cell_type": "code",
   "execution_count": null,
   "metadata": {},
   "outputs": [],
   "source": [
    "def active_neighbours2(G, x, y, z, w):\n",
    "    c = 0\n",
    "    for n in neighbours2(x, y, z, w):\n",
    "        if n in G:\n",
    "            c += 1\n",
    "    return c"
   ]
  },
  {
   "cell_type": "code",
   "execution_count": null,
   "metadata": {},
   "outputs": [],
   "source": [
    "def evolve2(G, n):\n",
    "    G2 = deepcopy(G)\n",
    "    for _ in range(n):\n",
    "        ns = {}\n",
    "        for x in dim_iter(G2, 0):\n",
    "            for y in dim_iter(G2, 1):\n",
    "                for z in dim_iter(G2, 2):\n",
    "                    for w in dim_iter(G2, 3):\n",
    "                        ns[(x, y, z, w)] = active_neighbours2(G2, x, y, z, w)\n",
    "\n",
    "        for ((x, y, z, w), a) in ns.items():\n",
    "            if (x, y, z, w) in G2:\n",
    "                if a not in (2, 3):\n",
    "                    G2.discard((x, y, z, w))\n",
    "            else:\n",
    "                if a == 3:\n",
    "                    pass\n",
    "                    G2.add((x, y, z, w))\n",
    "    return G2"
   ]
  },
  {
   "cell_type": "code",
   "execution_count": null,
   "metadata": {},
   "outputs": [],
   "source": [
    "def p2(G): return len(evolve2(G, 6))"
   ]
  },
  {
   "cell_type": "code",
   "execution_count": null,
   "metadata": {},
   "outputs": [],
   "source": [
    "g = \"\"\".#.\n",
    "..#\n",
    "###\"\"\"\n",
    "G = parse2(g)"
   ]
  },
  {
   "cell_type": "code",
   "execution_count": null,
   "metadata": {},
   "outputs": [],
   "source": [
    "assert len(evolve2(G, 1)) == 29"
   ]
  },
  {
   "cell_type": "code",
   "execution_count": null,
   "metadata": {},
   "outputs": [],
   "source": [
    "g = \"\"\"#......#\n",
    "##.#..#.\n",
    "#.#.###.\n",
    ".##.....\n",
    ".##.#...\n",
    "##.#....\n",
    "#####.#.\n",
    "##.#.###\"\"\"\n",
    "G = parse2(g)"
   ]
  },
  {
   "cell_type": "code",
   "execution_count": null,
   "metadata": {},
   "outputs": [
    {
     "data": {
      "text/plain": [
       "2064"
      ]
     },
     "execution_count": null,
     "metadata": {},
     "output_type": "execute_result"
    }
   ],
   "source": [
    "p2(G)"
   ]
  }
 ],
 "metadata": {
  "kernelspec": {
   "display_name": "Python 3",
   "language": "python",
   "name": "python3"
  }
 },
 "nbformat": 4,
 "nbformat_minor": 4
}
