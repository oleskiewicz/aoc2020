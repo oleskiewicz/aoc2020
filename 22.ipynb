{
 "cells": [
  {
   "cell_type": "markdown",
   "metadata": {},
   "source": [
    "# day 22"
   ]
  },
  {
   "cell_type": "code",
   "execution_count": null,
   "metadata": {},
   "outputs": [],
   "source": [
    "from collections import deque"
   ]
  },
  {
   "cell_type": "markdown",
   "metadata": {},
   "source": [
    "## part 1"
   ]
  },
  {
   "cell_type": "code",
   "execution_count": null,
   "metadata": {},
   "outputs": [],
   "source": [
    "def read(f):\n",
    "    d1, d2 = open(f, 'r').read().split('\\n\\n')\n",
    "    return (\n",
    "        deque(int(c) for c in d.splitlines()[1:])\n",
    "        for d in [d1, d2]\n",
    "    )"
   ]
  },
  {
   "cell_type": "code",
   "execution_count": null,
   "metadata": {},
   "outputs": [
    {
     "data": {
      "text/plain": [
       "(deque([9, 2, 6, 3, 1]), deque([5, 8, 4, 7, 10]))"
      ]
     },
     "execution_count": null,
     "metadata": {},
     "output_type": "execute_result"
    }
   ],
   "source": [
    "d1, d2 = read(\"./data/22_test.txt\")\n",
    "d1, d2"
   ]
  },
  {
   "cell_type": "code",
   "execution_count": null,
   "metadata": {},
   "outputs": [],
   "source": [
    "def play(d1, d2):\n",
    "    i = 1\n",
    "\n",
    "    while (d1 and d2):\n",
    "        c1 = d1.popleft()\n",
    "        c2 = d2.popleft()\n",
    "\n",
    "        if c1 > c2:\n",
    "            d1.extend([c1, c2])\n",
    "            # print(f\"Player 1 wins round {i}!\")\n",
    "        else:\n",
    "            d2.extend([c2, c1])\n",
    "            # print(f\"Player 2 wins round {i}!\")\n",
    "\n",
    "        i += 1\n",
    "\n",
    "    return d1 if d1 else d2"
   ]
  },
  {
   "cell_type": "code",
   "execution_count": null,
   "metadata": {},
   "outputs": [],
   "source": [
    "def score(d):\n",
    "    return sum((i + 1) * c for (i, c) in enumerate(list(d)[::-1]))"
   ]
  },
  {
   "cell_type": "code",
   "execution_count": null,
   "metadata": {},
   "outputs": [],
   "source": [
    "def p1(d1, d2): return score(play(d1, d2))"
   ]
  },
  {
   "cell_type": "code",
   "execution_count": null,
   "metadata": {},
   "outputs": [],
   "source": [
    "assert p1(d1, d2) == 306"
   ]
  },
  {
   "cell_type": "code",
   "execution_count": null,
   "metadata": {},
   "outputs": [],
   "source": [
    "d1, d2 = read(\"./data/22.txt\")"
   ]
  },
  {
   "cell_type": "code",
   "execution_count": null,
   "metadata": {},
   "outputs": [
    {
     "data": {
      "text/plain": [
       "32783"
      ]
     },
     "execution_count": null,
     "metadata": {},
     "output_type": "execute_result"
    }
   ],
   "source": [
    "p1(d1, d2)"
   ]
  }
 ],
 "metadata": {
  "kernelspec": {
   "display_name": "Python 3",
   "language": "python",
   "name": "python3"
  }
 },
 "nbformat": 4,
 "nbformat_minor": 4
}
