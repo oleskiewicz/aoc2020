{
 "cells": [
  {
   "cell_type": "markdown",
   "metadata": {},
   "source": [
    "# day 12"
   ]
  },
  {
   "cell_type": "markdown",
   "metadata": {},
   "source": [
    "## part 1"
   ]
  },
  {
   "cell_type": "code",
   "execution_count": null,
   "metadata": {},
   "outputs": [],
   "source": [
    "def read(f):\n",
    "    return [(line[0], int(line[1:])) for line in open(f, 'r')]"
   ]
  },
  {
   "cell_type": "code",
   "execution_count": null,
   "metadata": {},
   "outputs": [
    {
     "data": {
      "text/plain": [
       "[('F', 10), ('N', 3), ('F', 7), ('R', 90), ('F', 11)]"
      ]
     },
     "execution_count": null,
     "metadata": {},
     "output_type": "execute_result"
    }
   ],
   "source": [
    "read(\"./data/12_test.txt\")"
   ]
  },
  {
   "cell_type": "code",
   "execution_count": null,
   "metadata": {},
   "outputs": [],
   "source": [
    "def p1(pos, ori, cmds):\n",
    "    for (op, arg) in cmds:\n",
    "        if op == 'N':\n",
    "            pos += arg * (0 + 1j)\n",
    "        elif op == 'S':\n",
    "            pos += arg * (0 - 1j)\n",
    "        elif op == 'E':\n",
    "            pos += arg * (1 + 0j)\n",
    "        elif op == 'W':\n",
    "            pos += arg * (-1 + 0j)\n",
    "        elif op == 'L':\n",
    "            ori = (ori + arg) % 360\n",
    "        elif op == 'R':\n",
    "            ori = (ori - arg) % 360\n",
    "        elif op == 'F':\n",
    "            pos += arg * 1j**(ori // 90)\n",
    "    return int(abs(pos.real) + abs(pos.imag))"
   ]
  },
  {
   "cell_type": "code",
   "execution_count": null,
   "metadata": {},
   "outputs": [],
   "source": [
    "assert p1(0 + 0j, 0, read(\"./data/12_test.txt\")) == 25"
   ]
  },
  {
   "cell_type": "code",
   "execution_count": null,
   "metadata": {},
   "outputs": [
    {
     "data": {
      "text/plain": [
       "2847"
      ]
     },
     "execution_count": null,
     "metadata": {},
     "output_type": "execute_result"
    }
   ],
   "source": [
    "p1(0 + 0j, 0, read(\"./data/12.txt\"))"
   ]
  },
  {
   "cell_type": "markdown",
   "metadata": {},
   "source": [
    "## part 2"
   ]
  },
  {
   "cell_type": "code",
   "execution_count": null,
   "metadata": {},
   "outputs": [],
   "source": [
    "def p2(pos, way, cmds):\n",
    "    for (op, arg) in cmds:\n",
    "        if op == 'N':\n",
    "            way += arg * (0 + 1j)\n",
    "        elif op == 'S':\n",
    "            way += arg * (0 - 1j)\n",
    "        elif op == 'E':\n",
    "            way += arg * (1 + 0j)\n",
    "        elif op == 'W':\n",
    "            way += arg * (-1 + 0j)\n",
    "        elif op == 'L':\n",
    "            way *= 1j**(arg // 90)\n",
    "        elif op == 'R':\n",
    "            way *= 1j**(-arg // 90)\n",
    "        elif op == 'F':\n",
    "            pos += arg * way\n",
    "    return int(abs(pos.real) + abs(pos.imag))"
   ]
  },
  {
   "cell_type": "code",
   "execution_count": null,
   "metadata": {},
   "outputs": [],
   "source": [
    "assert p2(0 + 0j, 10 + 1j, read(\"./data/12_test.txt\")) == 286"
   ]
  },
  {
   "cell_type": "code",
   "execution_count": null,
   "metadata": {},
   "outputs": [
    {
     "data": {
      "text/plain": [
       "29839"
      ]
     },
     "execution_count": null,
     "metadata": {},
     "output_type": "execute_result"
    }
   ],
   "source": [
    "p2(0 + 0j, 10 + 1j, read(\"./data/12.txt\"))"
   ]
  }
 ],
 "metadata": {
  "kernelspec": {
   "display_name": "Python 3",
   "language": "python",
   "name": "python3"
  }
 },
 "nbformat": 4,
 "nbformat_minor": 4
}
