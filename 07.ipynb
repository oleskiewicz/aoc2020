{
 "cells": [
  {
   "cell_type": "markdown",
   "metadata": {},
   "source": [
    "# day 7"
   ]
  },
  {
   "cell_type": "code",
   "execution_count": null,
   "metadata": {},
   "outputs": [],
   "source": [
    "import re"
   ]
  },
  {
   "cell_type": "markdown",
   "metadata": {},
   "source": [
    "## part 1"
   ]
  },
  {
   "cell_type": "code",
   "execution_count": null,
   "metadata": {},
   "outputs": [],
   "source": [
    "def read(f):\n",
    "    return {\n",
    "        re.findall(r\"^\\w+ \\w+\", x)[0]: re.findall(r\"(\\d+) (\\w+ \\w+)\", x)\n",
    "        for x in open(f, 'r')\n",
    "    }"
   ]
  },
  {
   "cell_type": "code",
   "execution_count": null,
   "metadata": {},
   "outputs": [
    {
     "data": {
      "text/plain": [
       "{'light red': [('1', 'bright white'), ('2', 'muted yellow')],\n",
       " 'dark orange': [('3', 'bright white'), ('4', 'muted yellow')],\n",
       " 'bright white': [('1', 'shiny gold')],\n",
       " 'muted yellow': [('2', 'shiny gold'), ('9', 'faded blue')],\n",
       " 'shiny gold': [('1', 'dark olive'), ('2', 'vibrant plum')],\n",
       " 'dark olive': [('3', 'faded blue'), ('4', 'dotted black')],\n",
       " 'vibrant plum': [('5', 'faded blue'), ('6', 'dotted black')],\n",
       " 'faded blue': [],\n",
       " 'dotted black': []}"
      ]
     },
     "execution_count": null,
     "metadata": {},
     "output_type": "execute_result"
    }
   ],
   "source": [
    "xs_test = read(\"./data/07_test.txt\")\n",
    "xs_test"
   ]
  },
  {
   "cell_type": "code",
   "execution_count": null,
   "metadata": {},
   "outputs": [],
   "source": [
    "def p1(bag, bags, result):\n",
    "    for _bag, contains in bags.items():\n",
    "        for (_, contain) in contains:\n",
    "            if contain == bag:\n",
    "                result.add(_bag)\n",
    "                p1(_bag, bags, result)\n",
    "    return result"
   ]
  },
  {
   "cell_type": "code",
   "execution_count": null,
   "metadata": {},
   "outputs": [],
   "source": [
    "assert len(p1(\"shiny gold\", xs_test, set())) == 4"
   ]
  },
  {
   "cell_type": "code",
   "execution_count": null,
   "metadata": {},
   "outputs": [],
   "source": [
    "xs = read(\"./data/07.txt\")"
   ]
  },
  {
   "cell_type": "markdown",
   "metadata": {},
   "source": [
    "**Note:** in the first attempt I got 130, because I forgot setting `result` to an empty set.  Global mutable state was the root of that evil."
   ]
  },
  {
   "cell_type": "code",
   "execution_count": null,
   "metadata": {},
   "outputs": [
    {
     "data": {
      "text/plain": [
       "126"
      ]
     },
     "execution_count": null,
     "metadata": {},
     "output_type": "execute_result"
    }
   ],
   "source": [
    "len(p1(\"shiny gold\", xs, set()))"
   ]
  },
  {
   "cell_type": "markdown",
   "metadata": {},
   "source": [
    "## part 2"
   ]
  },
  {
   "cell_type": "code",
   "execution_count": null,
   "metadata": {},
   "outputs": [],
   "source": [
    "def p2(bag, bags):\n",
    "    for amount, _bag in bags[bag]:\n",
    "        yield int(amount)\n",
    "        for i in range(int(amount)):\n",
    "            yield from p2(_bag, bags)"
   ]
  },
  {
   "cell_type": "code",
   "execution_count": null,
   "metadata": {},
   "outputs": [],
   "source": [
    "assert sum(p2(\"shiny gold\", xs_test)) == 32"
   ]
  },
  {
   "cell_type": "code",
   "execution_count": null,
   "metadata": {},
   "outputs": [
    {
     "data": {
      "text/plain": [
       "220149"
      ]
     },
     "execution_count": null,
     "metadata": {},
     "output_type": "execute_result"
    }
   ],
   "source": [
    "sum(p2(\"shiny gold\", xs))"
   ]
  }
 ],
 "metadata": {
  "kernelspec": {
   "display_name": "Python 3",
   "language": "python",
   "name": "python3"
  }
 },
 "nbformat": 4,
 "nbformat_minor": 4
}
