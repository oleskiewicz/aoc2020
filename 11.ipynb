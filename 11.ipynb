{
 "cells": [
  {
   "cell_type": "markdown",
   "metadata": {},
   "source": [
    "# day 11"
   ]
  },
  {
   "cell_type": "markdown",
   "metadata": {},
   "source": [
    "Cellular automata!"
   ]
  },
  {
   "cell_type": "markdown",
   "metadata": {},
   "source": [
    "## part 1"
   ]
  },
  {
   "cell_type": "code",
   "execution_count": null,
   "metadata": {},
   "outputs": [],
   "source": [
    "def read(f):\n",
    "    return [list(line.rstrip()) for line in open(f, 'r')]"
   ]
  },
  {
   "cell_type": "code",
   "execution_count": null,
   "metadata": {},
   "outputs": [
    {
     "data": {
      "text/plain": [
       "[['L', '.', 'L', 'L', '.', 'L', 'L', '.', 'L', 'L'],\n",
       " ['L', 'L', 'L', 'L', 'L', 'L', 'L', '.', 'L', 'L'],\n",
       " ['L', '.', 'L', '.', 'L', '.', '.', 'L', '.', '.'],\n",
       " ['L', 'L', 'L', 'L', '.', 'L', 'L', '.', 'L', 'L'],\n",
       " ['L', '.', 'L', 'L', '.', 'L', 'L', '.', 'L', 'L'],\n",
       " ['L', '.', 'L', 'L', 'L', 'L', 'L', '.', 'L', 'L'],\n",
       " ['.', '.', 'L', '.', 'L', '.', '.', '.', '.', '.'],\n",
       " ['L', 'L', 'L', 'L', 'L', 'L', 'L', 'L', 'L', 'L'],\n",
       " ['L', '.', 'L', 'L', 'L', 'L', 'L', 'L', '.', 'L'],\n",
       " ['L', '.', 'L', 'L', 'L', 'L', 'L', '.', 'L', 'L']]"
      ]
     },
     "execution_count": null,
     "metadata": {},
     "output_type": "execute_result"
    }
   ],
   "source": [
    "grid = read(\"./data/11_test.txt\")\n",
    "nx, ny = len(grid), len(grid[0])\n",
    "\n",
    "grid"
   ]
  },
  {
   "cell_type": "code",
   "execution_count": null,
   "metadata": {},
   "outputs": [],
   "source": [
    "def bounds(x, nx):\n",
    "    return (x - 1 if x > 0 else x, x + 1 if x < nx - 1 else x)"
   ]
  },
  {
   "cell_type": "code",
   "execution_count": null,
   "metadata": {},
   "outputs": [],
   "source": [
    "def box(x, nx, y, ny):\n",
    "    x_min, x_max = bounds(x, nx)\n",
    "    y_min, y_max = bounds(y, ny)\n",
    "    return [\n",
    "        (_x, _y)\n",
    "        for _x in range(x_min, x_max + 1)\n",
    "        for _y in range(y_min, y_max + 1)\n",
    "        if _x != x or _y != y\n",
    "    ]"
   ]
  },
  {
   "cell_type": "code",
   "execution_count": null,
   "metadata": {},
   "outputs": [
    {
     "data": {
      "text/plain": [
       "[(0, 0), (0, 2), (1, 0), (1, 1), (1, 2)]"
      ]
     },
     "execution_count": null,
     "metadata": {},
     "output_type": "execute_result"
    }
   ],
   "source": [
    "box(0, nx, 1, ny)"
   ]
  },
  {
   "cell_type": "code",
   "execution_count": null,
   "metadata": {},
   "outputs": [],
   "source": [
    "def neighbours(grid, x, nx, y, ny):\n",
    "    return [grid[_x][_y] for (_x, _y) in box(x, nx, y, ny)]"
   ]
  },
  {
   "cell_type": "code",
   "execution_count": null,
   "metadata": {},
   "outputs": [
    {
     "data": {
      "text/plain": [
       "('L', ['.', 'L', 'L'])"
      ]
     },
     "execution_count": null,
     "metadata": {},
     "output_type": "execute_result"
    }
   ],
   "source": [
    "grid[0][0], neighbours(grid, 0, nx, 0, ny)"
   ]
  },
  {
   "cell_type": "markdown",
   "metadata": {},
   "source": [
    "Now that we have a way to get chair states around each coordinate, let's revisit the rules:\n",
    "- If a seat is empty (L) and there are no occupied seats adjacent to it, the seat becomes occupied.\n",
    "- If a seat is occupied (#) and four or more seats adjacent to it are also occupied, the seat becomes empty.\n",
    "- Otherwise, the seat's state does not change."
   ]
  },
  {
   "cell_type": "code",
   "execution_count": null,
   "metadata": {},
   "outputs": [],
   "source": [
    "def evolve(grid, nx, ny):\n",
    "    # this is a deepcopy equivalent, otherwise grid is overwritten and horrible things happen\n",
    "    grid_next = grid_next = [[grid[x][y] for y in range(0, ny)] for x in range(0, nx)]\n",
    "    for x in range(0, nx):\n",
    "        for y in range(0, ny):\n",
    "            cell = grid[x][y]\n",
    "            if cell == 'L' and sum(seat == '#' for seat in neighbours(grid, x, nx, y, ny)) == 0:\n",
    "                grid_next[x][y] = '#'\n",
    "            elif cell == '#' and sum(seat == '#' for seat in neighbours(grid, x, nx, y, ny)) >= 4:\n",
    "                grid_next[x][y] = 'L'\n",
    "    return grid_next"
   ]
  },
  {
   "cell_type": "code",
   "execution_count": null,
   "metadata": {},
   "outputs": [
    {
     "data": {
      "text/plain": [
       "[['#', '.', '#', '#', '.', '#', '#', '.', '#', '#'],\n",
       " ['#', '#', '#', '#', '#', '#', '#', '.', '#', '#'],\n",
       " ['#', '.', '#', '.', '#', '.', '.', '#', '.', '.'],\n",
       " ['#', '#', '#', '#', '.', '#', '#', '.', '#', '#'],\n",
       " ['#', '.', '#', '#', '.', '#', '#', '.', '#', '#'],\n",
       " ['#', '.', '#', '#', '#', '#', '#', '.', '#', '#'],\n",
       " ['.', '.', '#', '.', '#', '.', '.', '.', '.', '.'],\n",
       " ['#', '#', '#', '#', '#', '#', '#', '#', '#', '#'],\n",
       " ['#', '.', '#', '#', '#', '#', '#', '#', '.', '#'],\n",
       " ['#', '.', '#', '#', '#', '#', '#', '.', '#', '#']]"
      ]
     },
     "execution_count": null,
     "metadata": {},
     "output_type": "execute_result"
    }
   ],
   "source": [
    "evolve(grid, nx, ny)"
   ]
  },
  {
   "cell_type": "markdown",
   "metadata": {},
   "source": [
    "It's working!"
   ]
  },
  {
   "cell_type": "code",
   "execution_count": null,
   "metadata": {},
   "outputs": [],
   "source": [
    "def p1(grid):\n",
    "    nx, ny = len(grid), len(grid[0])\n",
    "    grid_2 = [[grid[x][y] for y in range(0, ny)] for x in range(0, nx)]\n",
    "    i = 0\n",
    "    while True:\n",
    "        grid_3 = evolve(grid_2, nx, ny)\n",
    "        if grid_3 == grid_2:\n",
    "            print(f'done at iteration #{i}')\n",
    "            break\n",
    "        else:\n",
    "            grid_2 = [[grid_3[x][y] for y in range(0, ny)] for x in range(0, nx)]\n",
    "            i += 1\n",
    "    return sum(grid_2[x][y] == '#' for y in range(0, ny) for x in range(0, nx))"
   ]
  },
  {
   "cell_type": "code",
   "execution_count": null,
   "metadata": {},
   "outputs": [
    {
     "name": "stdout",
     "output_type": "stream",
     "text": [
      "done at iteration #5\n"
     ]
    }
   ],
   "source": [
    "assert p1(grid) == 37"
   ]
  },
  {
   "cell_type": "code",
   "execution_count": null,
   "metadata": {},
   "outputs": [
    {
     "name": "stdout",
     "output_type": "stream",
     "text": [
      "done at iteration #86\n"
     ]
    },
    {
     "data": {
      "text/plain": [
       "2178"
      ]
     },
     "execution_count": null,
     "metadata": {},
     "output_type": "execute_result"
    }
   ],
   "source": [
    "p1(read(\"./data/11.txt\"))"
   ]
  },
  {
   "cell_type": "markdown",
   "metadata": {},
   "source": [
    "## part 2"
   ]
  },
  {
   "cell_type": "code",
   "execution_count": null,
   "metadata": {},
   "outputs": [],
   "source": [
    "def visible(grid, x, nx, y, ny):\n",
    "    for dx in [-1, 0, 1]:\n",
    "        for dy in [-1, 0, 1]:\n",
    "            if (dx, dy) == (0, 0):\n",
    "                continue\n",
    "            _x = x + dx\n",
    "            _y = y + dy\n",
    "            while 0 <= _x <= (nx - 1) and 0 <= _y <= (ny - 1) and grid[_x][_y] == '.':\n",
    "                _x += dx\n",
    "                _y += dy\n",
    "            if 0 <= _x <= (nx - 1) and 0 <= _y <= (ny - 1):\n",
    "                yield grid[_x][_y]"
   ]
  },
  {
   "cell_type": "code",
   "execution_count": null,
   "metadata": {},
   "outputs": [
    {
     "data": {
      "text/plain": [
       "[['.', '.', '.', '.', '.', '.', '.', '#', '.'],\n",
       " ['.', '.', '.', '#', '.', '.', '.', '.', '.'],\n",
       " ['.', '#', '.', '.', '.', '.', '.', '.', '.'],\n",
       " ['.', '.', '.', '.', '.', '.', '.', '.', '.'],\n",
       " ['.', '.', '#', 'L', '.', '.', '.', '.', '#'],\n",
       " ['.', '.', '.', '.', '#', '.', '.', '.', '.'],\n",
       " ['.', '.', '.', '.', '.', '.', '.', '.', '.'],\n",
       " ['#', '.', '.', '.', '.', '.', '.', '.', '.'],\n",
       " ['.', '.', '.', '#', '.', '.', '.', '.', '.']]"
      ]
     },
     "execution_count": null,
     "metadata": {},
     "output_type": "execute_result"
    }
   ],
   "source": [
    "grid = [list(line.strip()) for line in \"\"\".......#.\n",
    "...#.....\n",
    ".#.......\n",
    ".........\n",
    "..#L....#\n",
    "....#....\n",
    ".........\n",
    "#........\n",
    "...#.....\"\"\".split('\\n')]\n",
    "\n",
    "nx, ny = len(grid), len(grid[0])\n",
    "\n",
    "grid"
   ]
  },
  {
   "cell_type": "code",
   "execution_count": null,
   "metadata": {},
   "outputs": [],
   "source": [
    "assert sum(seat == '#' for seat in visible(grid, 4, nx, 3, ny)) == 8"
   ]
  },
  {
   "cell_type": "code",
   "execution_count": null,
   "metadata": {},
   "outputs": [
    {
     "data": {
      "text/plain": [
       "[['.', '#', '#', '.', '#', '#', '.'],\n",
       " ['#', '.', '#', '.', '#', '.', '#'],\n",
       " ['#', '#', '.', '.', '.', '#', '#'],\n",
       " ['.', '.', '.', 'L', '.', '.', '.'],\n",
       " ['#', '#', '.', '.', '.', '#', '#'],\n",
       " ['#', '.', '#', '.', '#', '.', '#'],\n",
       " ['.', '#', '#', '.', '#', '#', '.']]"
      ]
     },
     "execution_count": null,
     "metadata": {},
     "output_type": "execute_result"
    }
   ],
   "source": [
    "grid = [list(line.strip()) for line in \"\"\".##.##.\n",
    "#.#.#.#\n",
    "##...##\n",
    "...L...\n",
    "##...##\n",
    "#.#.#.#\n",
    ".##.##.\"\"\".split('\\n')]\n",
    "\n",
    "nx, ny = len(grid), len(grid[0])\n",
    "\n",
    "grid"
   ]
  },
  {
   "cell_type": "code",
   "execution_count": null,
   "metadata": {},
   "outputs": [],
   "source": [
    "assert list(visible(grid, 3, nx, 3, ny)) == []"
   ]
  },
  {
   "cell_type": "code",
   "execution_count": null,
   "metadata": {},
   "outputs": [
    {
     "data": {
      "text/plain": [
       "[['L', '.', 'L', 'L', '.', 'L', 'L', '.', 'L', 'L'],\n",
       " ['L', 'L', 'L', 'L', 'L', 'L', 'L', '.', 'L', 'L'],\n",
       " ['L', '.', 'L', '.', 'L', '.', '.', 'L', '.', '.'],\n",
       " ['L', 'L', 'L', 'L', '.', 'L', 'L', '.', 'L', 'L'],\n",
       " ['L', '.', 'L', 'L', '.', 'L', 'L', '.', 'L', 'L'],\n",
       " ['L', '.', 'L', 'L', 'L', 'L', 'L', '.', 'L', 'L'],\n",
       " ['.', '.', 'L', '.', 'L', '.', '.', '.', '.', '.'],\n",
       " ['L', 'L', 'L', 'L', 'L', 'L', 'L', 'L', 'L', 'L'],\n",
       " ['L', '.', 'L', 'L', 'L', 'L', 'L', 'L', '.', 'L'],\n",
       " ['L', '.', 'L', 'L', 'L', 'L', 'L', '.', 'L', 'L']]"
      ]
     },
     "execution_count": null,
     "metadata": {},
     "output_type": "execute_result"
    }
   ],
   "source": [
    "grid = read(\"./data/11_test.txt\")\n",
    "nx, ny = len(grid), len(grid[0])\n",
    "\n",
    "grid"
   ]
  },
  {
   "cell_type": "code",
   "execution_count": null,
   "metadata": {},
   "outputs": [],
   "source": [
    "def evolve2(grid, nx, ny):\n",
    "    grid_next = grid_next = [[grid[x][y] for y in range(0, ny)] for x in range(0, nx)]\n",
    "    for x in range(0, nx):\n",
    "        for y in range(0, ny):\n",
    "            cell = grid[x][y]\n",
    "            if cell == 'L' and sum(seat == '#' for seat in visible(grid, x, nx, y, ny)) == 0:\n",
    "                grid_next[x][y] = '#'\n",
    "            elif cell == '#' and sum(seat == '#' for seat in visible(grid, x, nx, y, ny)) >= 5:\n",
    "                grid_next[x][y] = 'L'\n",
    "    return grid_next"
   ]
  },
  {
   "cell_type": "code",
   "execution_count": null,
   "metadata": {},
   "outputs": [],
   "source": [
    "def p2(grid):\n",
    "    nx, ny = len(grid), len(grid[0])\n",
    "    grid_2 = [[grid[x][y] for y in range(0, ny)] for x in range(0, nx)]\n",
    "    i = 0\n",
    "    while True:\n",
    "        grid_3 = evolve2(grid_2, nx, ny)\n",
    "        if grid_3 == grid_2:\n",
    "            print(f'done at iteration #{i}')\n",
    "            break\n",
    "        else:\n",
    "            grid_2 = [[grid_3[x][y] for y in range(0, ny)] for x in range(0, nx)]\n",
    "            i += 1\n",
    "    return sum(grid_2[x][y] == '#' for y in range(0, ny) for x in range(0, nx))"
   ]
  },
  {
   "cell_type": "code",
   "execution_count": null,
   "metadata": {},
   "outputs": [
    {
     "name": "stdout",
     "output_type": "stream",
     "text": [
      "done at iteration #6\n"
     ]
    }
   ],
   "source": [
    "assert p2(grid) == 26"
   ]
  },
  {
   "cell_type": "code",
   "execution_count": null,
   "metadata": {},
   "outputs": [
    {
     "name": "stdout",
     "output_type": "stream",
     "text": [
      "done at iteration #83\n"
     ]
    },
    {
     "data": {
      "text/plain": [
       "1978"
      ]
     },
     "execution_count": null,
     "metadata": {},
     "output_type": "execute_result"
    }
   ],
   "source": [
    "p2(read(\"./data/11.txt\"))"
   ]
  }
 ],
 "metadata": {
  "kernelspec": {
   "display_name": "Python 3",
   "language": "python",
   "name": "python3"
  }
 },
 "nbformat": 4,
 "nbformat_minor": 4
}
