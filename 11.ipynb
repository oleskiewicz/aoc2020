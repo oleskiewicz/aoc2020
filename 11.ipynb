{
 "cells": [
  {
   "cell_type": "markdown",
   "metadata": {},
   "source": [
    "# day 11"
   ]
  },
  {
   "cell_type": "markdown",
   "metadata": {},
   "source": [
    "Cellular automata!"
   ]
  },
  {
   "cell_type": "markdown",
   "metadata": {},
   "source": [
    "## part 1"
   ]
  },
  {
   "cell_type": "code",
   "execution_count": null,
   "metadata": {},
   "outputs": [],
   "source": [
    "def read(f):\n",
    "    return [list(line.rstrip()) for line in open(f, 'r')]"
   ]
  },
  {
   "cell_type": "code",
   "execution_count": null,
   "metadata": {},
   "outputs": [],
   "source": [
    "G = read(\"./data/11_test.txt\")\n",
    "G"
   ]
  },
  {
   "cell_type": "code",
   "execution_count": null,
   "metadata": {},
   "outputs": [],
   "source": [
    "nx = len(G)\n",
    "ny = len(G[0])"
   ]
  },
  {
   "cell_type": "code",
   "execution_count": null,
   "metadata": {},
   "outputs": [],
   "source": [
    "def bounds(x, nx):\n",
    "    return (x - 1 if x > 0 else x, x + 1 if x < nx - 1 else x)"
   ]
  },
  {
   "cell_type": "code",
   "execution_count": null,
   "metadata": {},
   "outputs": [],
   "source": [
    "def box(x, nx, y, ny):\n",
    "    x_min, x_max = bounds(x, nx)\n",
    "    y_min, y_max = bounds(y, ny)\n",
    "    return [\n",
    "        (_x, _y)\n",
    "        for _x in range(x_min, x_max + 1)\n",
    "        for _y in range(y_min, y_max + 1)\n",
    "        if _x != x or _y != y\n",
    "    ]"
   ]
  },
  {
   "cell_type": "code",
   "execution_count": null,
   "metadata": {},
   "outputs": [
    {
     "data": {
      "text/plain": [
       "[(0, 0), (0, 2), (1, 0), (1, 1), (1, 2)]"
      ]
     },
     "execution_count": null,
     "metadata": {},
     "output_type": "execute_result"
    }
   ],
   "source": [
    "box(0, nx, 1, ny)"
   ]
  },
  {
   "cell_type": "code",
   "execution_count": null,
   "metadata": {},
   "outputs": [],
   "source": [
    "def neighbours(x, y, grid, nx, ny):\n",
    "    return [grid[_x][_y] for (_x, _y) in box(x, nx, y, ny)]"
   ]
  },
  {
   "cell_type": "code",
   "execution_count": null,
   "metadata": {},
   "outputs": [
    {
     "data": {
      "text/plain": [
       "('L', ['.', 'L', 'L'])"
      ]
     },
     "execution_count": null,
     "metadata": {},
     "output_type": "execute_result"
    }
   ],
   "source": [
    "G[0][0], neighbours(0, 0, G, nx, ny)"
   ]
  },
  {
   "cell_type": "markdown",
   "metadata": {},
   "source": [
    "Now that we have a way to get chair states around each coordinate, let's revisit the rules:\n",
    "- If a seat is empty (L) and there are no occupied seats adjacent to it, the seat becomes occupied.\n",
    "- If a seat is occupied (#) and four or more seats adjacent to it are also occupied, the seat becomes empty.\n",
    "- Otherwise, the seat's state does not change."
   ]
  },
  {
   "cell_type": "code",
   "execution_count": null,
   "metadata": {},
   "outputs": [],
   "source": [
    "def evolve(grid, nx, ny):\n",
    "    # this is a deepcopy equivalent, otherwise grid is overwritten and horrible things happen\n",
    "    grid_next = grid_next = [[grid[x][y] for y in range(0, ny)] for x in range(0, nx)]\n",
    "    for x in range(0, nx):\n",
    "        for y in range(0, ny):\n",
    "            cell = grid[x][y]\n",
    "            if cell == 'L' and sum(seat == '#' for seat in neighbours(x, y, grid, nx, ny)) == 0:\n",
    "                grid_next[x][y] = '#'\n",
    "            elif cell == '#' and sum(seat == '#' for seat in neighbours(x, y, grid, nx, ny)) >= 4:\n",
    "                grid_next[x][y] = 'L'\n",
    "    return grid_next"
   ]
  },
  {
   "cell_type": "code",
   "execution_count": null,
   "metadata": {},
   "outputs": [
    {
     "data": {
      "text/plain": [
       "[['#', '.', '#', '#', '.', '#', '#', '.', '#', '#'],\n",
       " ['#', '#', '#', '#', '#', '#', '#', '.', '#', '#'],\n",
       " ['#', '.', '#', '.', '#', '.', '.', '#', '.', '.'],\n",
       " ['#', '#', '#', '#', '.', '#', '#', '.', '#', '#'],\n",
       " ['#', '.', '#', '#', '.', '#', '#', '.', '#', '#'],\n",
       " ['#', '.', '#', '#', '#', '#', '#', '.', '#', '#'],\n",
       " ['.', '.', '#', '.', '#', '.', '.', '.', '.', '.'],\n",
       " ['#', '#', '#', '#', '#', '#', '#', '#', '#', '#'],\n",
       " ['#', '.', '#', '#', '#', '#', '#', '#', '.', '#'],\n",
       " ['#', '.', '#', '#', '#', '#', '#', '.', '#', '#']]"
      ]
     },
     "execution_count": null,
     "metadata": {},
     "output_type": "execute_result"
    }
   ],
   "source": [
    "evolve(G, nx, ny)"
   ]
  },
  {
   "cell_type": "markdown",
   "metadata": {},
   "source": [
    "It's working!"
   ]
  },
  {
   "cell_type": "code",
   "execution_count": null,
   "metadata": {},
   "outputs": [],
   "source": [
    "def p1(grid):\n",
    "    nx = len(grid)\n",
    "    ny = len(grid[0])\n",
    "    grid_2 = [[grid[x][y] for y in range(0, ny)] for x in range(0, nx)]\n",
    "    i = 0\n",
    "    while True:\n",
    "        grid_3 = evolve(grid_2, nx, ny)\n",
    "        if grid_3 == grid_2:\n",
    "            print(f'done at {i}')\n",
    "            break\n",
    "        else:\n",
    "            grid_2 = [[grid_3[x][y] for y in range(0, ny)] for x in range(0, nx)]\n",
    "            i += 1\n",
    "    return sum(grid_2[x][y] == '#' for y in range(0, ny) for x in range(0, nx))"
   ]
  },
  {
   "cell_type": "code",
   "execution_count": null,
   "metadata": {},
   "outputs": [
    {
     "name": "stdout",
     "output_type": "stream",
     "text": [
      "done at 5\n"
     ]
    }
   ],
   "source": [
    "assert p1(G) == 37"
   ]
  },
  {
   "cell_type": "code",
   "execution_count": null,
   "metadata": {},
   "outputs": [
    {
     "name": "stdout",
     "output_type": "stream",
     "text": [
      "done at 86\n"
     ]
    },
    {
     "data": {
      "text/plain": [
       "2178"
      ]
     },
     "execution_count": null,
     "metadata": {},
     "output_type": "execute_result"
    }
   ],
   "source": [
    "p1(read(\"./data/11.txt\"))"
   ]
  }
 ],
 "metadata": {
  "kernelspec": {
   "display_name": "Python 3",
   "language": "python",
   "name": "python3"
  }
 },
 "nbformat": 4,
 "nbformat_minor": 4
}
