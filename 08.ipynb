{
 "cells": [
  {
   "cell_type": "markdown",
   "metadata": {},
   "source": [
    "# day 8"
   ]
  },
  {
   "cell_type": "markdown",
   "metadata": {},
   "source": [
    "## part 1"
   ]
  },
  {
   "cell_type": "code",
   "execution_count": null,
   "metadata": {},
   "outputs": [],
   "source": [
    "def read(f):\n",
    "    return [\n",
    "        (op, int(arg))\n",
    "        for (op, arg) in [\n",
    "            line.rstrip().split(' ')\n",
    "            for line in open(f, 'r')\n",
    "        ]\n",
    "    ]"
   ]
  },
  {
   "cell_type": "code",
   "execution_count": null,
   "metadata": {},
   "outputs": [
    {
     "data": {
      "text/plain": [
       "[('nop', 0),\n",
       " ('acc', 1),\n",
       " ('jmp', 4),\n",
       " ('acc', 3),\n",
       " ('jmp', -3),\n",
       " ('acc', -99),\n",
       " ('acc', 1),\n",
       " ('jmp', -4),\n",
       " ('acc', 6)]"
      ]
     },
     "execution_count": null,
     "metadata": {},
     "output_type": "execute_result"
    }
   ],
   "source": [
    "xs_test = read(\"./data/08_test.txt\")\n",
    "xs_test"
   ]
  },
  {
   "cell_type": "code",
   "execution_count": null,
   "metadata": {},
   "outputs": [],
   "source": [
    "def run1(prog):\n",
    "    acc = 0\n",
    "    cur = 0\n",
    "    seen = set()\n",
    "    while True:\n",
    "        if cur in seen:\n",
    "            break\n",
    "        seen.add(cur)\n",
    "        op, arg = prog[cur]\n",
    "        if op == 'nop':\n",
    "            cur += 1\n",
    "            continue\n",
    "        if op == 'acc':\n",
    "            cur += 1\n",
    "            acc += arg\n",
    "            continue\n",
    "        if op == 'jmp':\n",
    "            cur += arg\n",
    "            continue\n",
    "    return acc"
   ]
  },
  {
   "cell_type": "code",
   "execution_count": null,
   "metadata": {},
   "outputs": [],
   "source": [
    "assert run1(xs_test) == 5"
   ]
  },
  {
   "cell_type": "code",
   "execution_count": null,
   "metadata": {},
   "outputs": [],
   "source": [
    "xs = read(\"./data/08.txt\")"
   ]
  },
  {
   "cell_type": "code",
   "execution_count": null,
   "metadata": {},
   "outputs": [
    {
     "data": {
      "text/plain": [
       "1487"
      ]
     },
     "execution_count": null,
     "metadata": {},
     "output_type": "execute_result"
    }
   ],
   "source": [
    "run1(xs)"
   ]
  },
  {
   "cell_type": "markdown",
   "metadata": {},
   "source": [
    "## part 2"
   ]
  },
  {
   "cell_type": "markdown",
   "metadata": {},
   "source": [
    "For part 2, I changed infinite loop condition from `cur in seen` to include termination condition, when `cur` reaches length of the program."
   ]
  },
  {
   "cell_type": "code",
   "execution_count": null,
   "metadata": {},
   "outputs": [],
   "source": [
    "def run2(prog):\n",
    "    acc = 0\n",
    "    cur = 0\n",
    "    seen = set()\n",
    "    while True:\n",
    "        if cur == len(prog):\n",
    "            return acc\n",
    "        if cur in seen:\n",
    "            return None\n",
    "        seen.add(cur)\n",
    "        op, arg = prog[cur]\n",
    "        if op == 'nop':\n",
    "            cur += 1\n",
    "            continue\n",
    "        if op == 'acc':\n",
    "            cur += 1\n",
    "            acc += arg\n",
    "            continue\n",
    "        if op == 'jmp':\n",
    "            cur += arg\n",
    "            continue"
   ]
  },
  {
   "cell_type": "markdown",
   "metadata": {},
   "source": [
    "New program generator:"
   ]
  },
  {
   "cell_type": "code",
   "execution_count": null,
   "metadata": {},
   "outputs": [
    {
     "name": "stdout",
     "output_type": "stream",
     "text": [
      "[('jmp', 0), ('acc', 1), ('jmp', 4), ('acc', 3), ('jmp', -3), ('acc', -99), ('acc', 1), ('jmp', -4), ('acc', 6)]\n",
      "[('nop', 0), ('acc', 1), ('jmp', 4), ('acc', 3), ('jmp', -3), ('acc', -99), ('acc', 1), ('jmp', -4), ('acc', 6)]\n",
      "[('nop', 0), ('acc', 1), ('nop', 4), ('acc', 3), ('jmp', -3), ('acc', -99), ('acc', 1), ('jmp', -4), ('acc', 6)]\n",
      "[('nop', 0), ('acc', 1), ('jmp', 4), ('acc', 3), ('jmp', -3), ('acc', -99), ('acc', 1), ('jmp', -4), ('acc', 6)]\n",
      "[('nop', 0), ('acc', 1), ('jmp', 4), ('acc', 3), ('nop', -3), ('acc', -99), ('acc', 1), ('jmp', -4), ('acc', 6)]\n",
      "[('nop', 0), ('acc', 1), ('jmp', 4), ('acc', 3), ('jmp', -3), ('acc', -99), ('acc', 1), ('jmp', -4), ('acc', 6)]\n",
      "[('nop', 0), ('acc', 1), ('jmp', 4), ('acc', 3), ('jmp', -3), ('acc', -99), ('acc', 1), ('jmp', -4), ('acc', 6)]\n",
      "[('nop', 0), ('acc', 1), ('jmp', 4), ('acc', 3), ('jmp', -3), ('acc', -99), ('acc', 1), ('nop', -4), ('acc', 6)]\n",
      "[('nop', 0), ('acc', 1), ('jmp', 4), ('acc', 3), ('jmp', -3), ('acc', -99), ('acc', 1), ('jmp', -4), ('acc', 6)]\n"
     ]
    }
   ],
   "source": [
    "for i, (op, arg) in enumerate(xs_test):\n",
    "    print(xs_test[:i] + [(\n",
    "        \"jmp\" if op == \"nop\" else \"nop\" if op == \"jmp\" else op, arg\n",
    "    )] + xs_test[i+1:])"
   ]
  },
  {
   "cell_type": "code",
   "execution_count": null,
   "metadata": {},
   "outputs": [],
   "source": [
    "def p2(prog):\n",
    "    for i, (op, arg) in enumerate(prog):\n",
    "        p2 = run2(prog[:i] + [(\n",
    "            \"jmp\" if op == \"nop\" else \"nop\" if op == \"jmp\" else op, arg\n",
    "        )] + prog[i+1:])\n",
    "        if p2:\n",
    "            return p2"
   ]
  },
  {
   "cell_type": "code",
   "execution_count": null,
   "metadata": {},
   "outputs": [],
   "source": [
    "assert p2(xs_test) == 8"
   ]
  },
  {
   "cell_type": "code",
   "execution_count": null,
   "metadata": {},
   "outputs": [
    {
     "data": {
      "text/plain": [
       "1607"
      ]
     },
     "execution_count": null,
     "metadata": {},
     "output_type": "execute_result"
    }
   ],
   "source": [
    "p2(xs)"
   ]
  }
 ],
 "metadata": {
  "kernelspec": {
   "display_name": "Python 3",
   "language": "python",
   "name": "python3"
  }
 },
 "nbformat": 4,
 "nbformat_minor": 4
}
