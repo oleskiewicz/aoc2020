{
 "cells": [
  {
   "cell_type": "markdown",
   "metadata": {},
   "source": [
    "# day 14"
   ]
  },
  {
   "cell_type": "code",
   "execution_count": null,
   "metadata": {},
   "outputs": [],
   "source": [
    "import re"
   ]
  },
  {
   "cell_type": "markdown",
   "metadata": {},
   "source": [
    "## part 1"
   ]
  },
  {
   "cell_type": "code",
   "execution_count": null,
   "metadata": {},
   "outputs": [],
   "source": [
    "def read(f): return [line.rstrip().split(\" = \") for line in open(f, \"r\").readlines()]"
   ]
  },
  {
   "cell_type": "code",
   "execution_count": null,
   "metadata": {},
   "outputs": [
    {
     "data": {
      "text/plain": [
       "[['mask', 'XXXXXXXXXXXXXXXXXXXXXXXXXXXXX1XXXX0X'],\n",
       " ['mem[8]', '11'],\n",
       " ['mem[7]', '101'],\n",
       " ['mem[8]', '0']]"
      ]
     },
     "execution_count": null,
     "metadata": {},
     "output_type": "execute_result"
    }
   ],
   "source": [
    "xs = read(\"./data/14_test.txt\")\n",
    "xs"
   ]
  },
  {
   "cell_type": "code",
   "execution_count": null,
   "metadata": {},
   "outputs": [],
   "source": [
    "def get_mem(str): return int(re.findall(r\"(\\d+)\", str)[0])"
   ]
  },
  {
   "cell_type": "markdown",
   "metadata": {},
   "source": [
    "I experimented with bitshifts and list comprehensions, but [this solution](https://github.com/sophiebits/adventofcode/blob/main/2020/day14.py) is the most elegant way to do it."
   ]
  },
  {
   "cell_type": "code",
   "execution_count": null,
   "metadata": {},
   "outputs": [],
   "source": [
    "def apply_mask(mask, arg):\n",
    "    arg |= int(mask.replace('X', '0'), 2)\n",
    "    arg &= int(mask.replace('X', '1'), 2)\n",
    "    return arg"
   ]
  },
  {
   "cell_type": "code",
   "execution_count": null,
   "metadata": {},
   "outputs": [],
   "source": [
    "def p1(xs):\n",
    "    mems = {}\n",
    "    mask = \"XXXXXXXXXXXXXXXXXXXXXXXXXXXXXXXXXXXX\"\n",
    "    mem = 0\n",
    "    val = 0\n",
    "\n",
    "    for (x1, x2) in xs:\n",
    "        if x1 == \"mask\":\n",
    "            mask = x2\n",
    "            continue\n",
    "        mems[get_mem(x1)] = apply_mask(mask, int(x2))\n",
    "\n",
    "    return sum(mems.values())"
   ]
  },
  {
   "cell_type": "code",
   "execution_count": null,
   "metadata": {},
   "outputs": [],
   "source": [
    "assert p1(xs) == 165"
   ]
  },
  {
   "cell_type": "code",
   "execution_count": null,
   "metadata": {},
   "outputs": [
    {
     "data": {
      "text/plain": [
       "12135523360904"
      ]
     },
     "execution_count": null,
     "metadata": {},
     "output_type": "execute_result"
    }
   ],
   "source": [
    "p1(read(\"./data/14.txt\"))"
   ]
  },
  {
   "cell_type": "markdown",
   "metadata": {},
   "source": [
    "## part 2"
   ]
  },
  {
   "cell_type": "code",
   "execution_count": null,
   "metadata": {},
   "outputs": [],
   "source": [
    "from more_itertools import locate"
   ]
  },
  {
   "cell_type": "code",
   "execution_count": null,
   "metadata": {},
   "outputs": [
    {
     "data": {
      "text/plain": [
       "[['mask', '000000000000000000000000000000X1001X'],\n",
       " ['mem[42]', '100'],\n",
       " ['mask', '00000000000000000000000000000000X0XX'],\n",
       " ['mem[26]', '1']]"
      ]
     },
     "execution_count": null,
     "metadata": {},
     "output_type": "execute_result"
    }
   ],
   "source": [
    "xs = read(\"./data/14_test2.txt\")\n",
    "xs"
   ]
  },
  {
   "cell_type": "code",
   "execution_count": null,
   "metadata": {},
   "outputs": [],
   "source": [
    "def gen_masks(mask):\n",
    "    for i in locate(mask, lambda x: x == 'X'):\n",
    "        for x in [0, 1]:\n",
    "            yield from gen_masks(mask[:i] + str(x) + mask[i + 1:])\n",
    "    yield mask\n",
    "\n",
    "def all_masks(mask): return set(filter(lambda x: 'X' not in x, gen_masks(mask)))"
   ]
  },
  {
   "cell_type": "code",
   "execution_count": null,
   "metadata": {},
   "outputs": [
    {
     "data": {
      "text/plain": [
       "{'000000000000000000000000000000010010',\n",
       " '000000000000000000000000000000010011',\n",
       " '000000000000000000000000000000110010',\n",
       " '000000000000000000000000000000110011'}"
      ]
     },
     "execution_count": null,
     "metadata": {},
     "output_type": "execute_result"
    }
   ],
   "source": [
    "all_masks('000000000000000000000000000000X1001X')"
   ]
  },
  {
   "cell_type": "code",
   "execution_count": null,
   "metadata": {},
   "outputs": [
    {
     "data": {
      "text/plain": [
       "{'000000000000000000000000000000000000',\n",
       " '000000000000000000000000000000000001',\n",
       " '000000000000000000000000000000000010',\n",
       " '000000000000000000000000000000000011',\n",
       " '000000000000000000000000000000001000',\n",
       " '000000000000000000000000000000001001',\n",
       " '000000000000000000000000000000001010',\n",
       " '000000000000000000000000000000001011'}"
      ]
     },
     "execution_count": null,
     "metadata": {},
     "output_type": "execute_result"
    }
   ],
   "source": [
    "all_masks('00000000000000000000000000000000X0XX')"
   ]
  },
  {
   "cell_type": "code",
   "execution_count": null,
   "metadata": {},
   "outputs": [],
   "source": [
    "mems = {}\n",
    "\n",
    "for (x1, x2) in xs:\n",
    "    if x1 == \"mask\":\n",
    "        masks = all_masks(x2)\n",
    "        continue\n",
    "    for mask in masks:\n",
    "        mems[apply_mask(mask, get_mem(x1))] = int(x2)"
   ]
  },
  {
   "cell_type": "code",
   "execution_count": null,
   "metadata": {},
   "outputs": [
    {
     "data": {
      "text/plain": [
       "408"
      ]
     },
     "execution_count": null,
     "metadata": {},
     "output_type": "execute_result"
    }
   ],
   "source": [
    "sum(mems.values())"
   ]
  },
  {
   "cell_type": "markdown",
   "metadata": {},
   "source": [
    "This is not the right answer!  Careful re-reading reveals that I have misread the question, and masks should be generated after, not before, masking a memory location.  I might come back to this later."
   ]
  }
 ],
 "metadata": {
  "kernelspec": {
   "display_name": "Python 3",
   "language": "python",
   "name": "python3"
  }
 },
 "nbformat": 4,
 "nbformat_minor": 4
}
