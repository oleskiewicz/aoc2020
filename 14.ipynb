{
 "cells": [
  {
   "cell_type": "markdown",
   "metadata": {},
   "source": [
    "# day 14"
   ]
  },
  {
   "cell_type": "code",
   "execution_count": null,
   "metadata": {},
   "outputs": [],
   "source": [
    "import re"
   ]
  },
  {
   "cell_type": "markdown",
   "metadata": {},
   "source": [
    "## part 1"
   ]
  },
  {
   "cell_type": "code",
   "execution_count": null,
   "metadata": {},
   "outputs": [],
   "source": [
    "def read(f): return [line.rstrip().split(\" = \") for line in open(f, \"r\").readlines()]"
   ]
  },
  {
   "cell_type": "code",
   "execution_count": null,
   "metadata": {},
   "outputs": [
    {
     "data": {
      "text/plain": [
       "[['mask', 'XXXXXXXXXXXXXXXXXXXXXXXXXXXXX1XXXX0X'],\n",
       " ['mem[8]', '11'],\n",
       " ['mem[7]', '101'],\n",
       " ['mem[8]', '0']]"
      ]
     },
     "execution_count": null,
     "metadata": {},
     "output_type": "execute_result"
    }
   ],
   "source": [
    "xs_test = read(\"./data/14_test.txt\")\n",
    "xs_test"
   ]
  },
  {
   "cell_type": "code",
   "execution_count": null,
   "metadata": {},
   "outputs": [],
   "source": [
    "def get_mem(str): return int(re.findall(r\"(\\d+)\", str)[0])"
   ]
  },
  {
   "cell_type": "markdown",
   "metadata": {},
   "source": [
    "I experimented with bitshifts and list comprehensions, but [this solution](https://github.com/sophiebits/adventofcode/blob/main/2020/day14.py) is the most elegant way to do it."
   ]
  },
  {
   "cell_type": "code",
   "execution_count": null,
   "metadata": {},
   "outputs": [],
   "source": [
    "def apply_mask(mask, arg):\n",
    "    arg |= int(mask.replace('X', '0'), 2)\n",
    "    arg &= int(mask.replace('X', '1'), 2)\n",
    "    return arg"
   ]
  },
  {
   "cell_type": "code",
   "execution_count": null,
   "metadata": {},
   "outputs": [],
   "source": [
    "def p1(xs):\n",
    "    mems = {}\n",
    "    reg = \"000000000000000000000000000000000000\"\n",
    "    mask = \"XXXXXXXXXXXXXXXXXXXXXXXXXXXXXXXXXXXX\"\n",
    "    mem = 0\n",
    "    val = 0\n",
    "\n",
    "    for (x1, x2) in xs:\n",
    "        if x1 == \"mask\":\n",
    "            mask = x2\n",
    "            continue\n",
    "        mems[get_mem(x1)] = apply_mask(mask, int(x2))\n",
    "\n",
    "    return sum(mems.values())"
   ]
  },
  {
   "cell_type": "code",
   "execution_count": null,
   "metadata": {},
   "outputs": [],
   "source": [
    "assert p1(xs_test) == 165"
   ]
  },
  {
   "cell_type": "code",
   "execution_count": null,
   "metadata": {},
   "outputs": [
    {
     "data": {
      "text/plain": [
       "12135523360904"
      ]
     },
     "execution_count": null,
     "metadata": {},
     "output_type": "execute_result"
    }
   ],
   "source": [
    "p1(read(\"./data/14.txt\"))"
   ]
  }
 ],
 "metadata": {
  "kernelspec": {
   "display_name": "Python 3",
   "language": "python",
   "name": "python3"
  }
 },
 "nbformat": 4,
 "nbformat_minor": 4
}
