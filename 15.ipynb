{
 "cells": [
  {
   "cell_type": "markdown",
   "metadata": {},
   "source": [
    "# day 15"
   ]
  },
  {
   "cell_type": "markdown",
   "metadata": {},
   "source": [
    "## part 1"
   ]
  },
  {
   "cell_type": "markdown",
   "metadata": {},
   "source": [
    "Setup explanation:"
   ]
  },
  {
   "cell_type": "code",
   "execution_count": null,
   "metadata": {},
   "outputs": [],
   "source": [
    "turns = 10\n",
    "xs = [0, 3, 6]"
   ]
  },
  {
   "cell_type": "code",
   "execution_count": null,
   "metadata": {},
   "outputs": [],
   "source": [
    "last = xs[-1]\n",
    "d = {x: i + 1 for i, x in enumerate(xs)}"
   ]
  },
  {
   "cell_type": "code",
   "execution_count": null,
   "metadata": {},
   "outputs": [
    {
     "name": "stdout",
     "output_type": "stream",
     "text": [
      "0 0\n",
      "1 3\n",
      "2 6\n",
      "3 0\n",
      "4 3\n",
      "5 3\n",
      "6 1\n",
      "7 0\n",
      "8 4\n",
      "9 0\n"
     ]
    }
   ],
   "source": [
    "for i in range(0, len(xs)):\n",
    "    print(i, xs[i])\n",
    "\n",
    "for i in range(len(xs), turns):\n",
    "    if last in d:  # difference between this and last\n",
    "        next = i - d[last]\n",
    "    else:  # first time seeing it\n",
    "        next = 0\n",
    "    d[last] = i\n",
    "    last = next  # swap variables\n",
    "    print(i, last)"
   ]
  },
  {
   "cell_type": "markdown",
   "metadata": {},
   "source": [
    "As expected, after 10 turns, variable `last` is:"
   ]
  },
  {
   "cell_type": "code",
   "execution_count": null,
   "metadata": {},
   "outputs": [
    {
     "data": {
      "text/plain": [
       "0"
      ]
     },
     "execution_count": null,
     "metadata": {},
     "output_type": "execute_result"
    }
   ],
   "source": [
    "last"
   ]
  },
  {
   "cell_type": "code",
   "execution_count": null,
   "metadata": {},
   "outputs": [],
   "source": [
    "def p1(xs, n):\n",
    "    last = xs[-1]\n",
    "    d = {x: i + 1 for i, x in enumerate(xs)}\n",
    "\n",
    "    for i in range(len(xs), n):\n",
    "        if last in d:\n",
    "            next = i - d[last]\n",
    "        else:\n",
    "            next = 0\n",
    "        d[last] = i\n",
    "        last = next\n",
    "\n",
    "    return last"
   ]
  },
  {
   "cell_type": "code",
   "execution_count": null,
   "metadata": {},
   "outputs": [],
   "source": [
    "assert p1([1,3,2], 2020) == 1\n",
    "assert p1([2,1,3], 2020) == 10\n",
    "assert p1([1,2,3], 2020) == 27\n",
    "assert p1([2,3,1], 2020) == 78\n",
    "assert p1([3,2,1], 2020) == 438\n",
    "assert p1([3,1,2], 2020) == 1836"
   ]
  },
  {
   "cell_type": "code",
   "execution_count": null,
   "metadata": {},
   "outputs": [
    {
     "data": {
      "text/plain": [
       "475"
      ]
     },
     "execution_count": null,
     "metadata": {},
     "output_type": "execute_result"
    }
   ],
   "source": [
    "p1([6,4,12,1,20,0,16], 2020)"
   ]
  },
  {
   "cell_type": "markdown",
   "metadata": {},
   "source": [
    "## part 2"
   ]
  },
  {
   "cell_type": "code",
   "execution_count": null,
   "metadata": {},
   "outputs": [
    {
     "data": {
      "text/plain": [
       "11261"
      ]
     },
     "execution_count": null,
     "metadata": {},
     "output_type": "execute_result"
    }
   ],
   "source": [
    "p1([6,4,12,1,20,0,16], 30000000)"
   ]
  }
 ],
 "metadata": {
  "kernelspec": {
   "display_name": "Python 3",
   "language": "python",
   "name": "python3"
  }
 },
 "nbformat": 4,
 "nbformat_minor": 4
}
