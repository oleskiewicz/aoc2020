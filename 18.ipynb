{
 "cells": [
  {
   "cell_type": "markdown",
   "metadata": {},
   "source": [
    "# day 18"
   ]
  },
  {
   "cell_type": "markdown",
   "metadata": {},
   "source": [
    "## part 1"
   ]
  },
  {
   "cell_type": "code",
   "execution_count": null,
   "metadata": {},
   "outputs": [],
   "source": [
    "class N(int):\n",
    "    def __add__(self, x):\n",
    "        return N(int(self) + x)\n",
    "    def __sub__(self, x):\n",
    "        return N(int(self) * x)"
   ]
  },
  {
   "cell_type": "code",
   "execution_count": null,
   "metadata": {},
   "outputs": [],
   "source": [
    "def convert(line):\n",
    "    result = line\n",
    "    result = result.replace(\"*\", \"-\")\n",
    "    for d in range(10):\n",
    "        result = result.replace(str(d), f\"N({d})\")\n",
    "    return result"
   ]
  },
  {
   "cell_type": "code",
   "execution_count": null,
   "metadata": {},
   "outputs": [
    {
     "data": {
      "text/plain": [
       "'N(1) + N(2) - N(3) + N(4) - N(5) + N(6)'"
      ]
     },
     "execution_count": null,
     "metadata": {},
     "output_type": "execute_result"
    }
   ],
   "source": [
    "convert(\"1 + 2 * 3 + 4 * 5 + 6\")"
   ]
  },
  {
   "cell_type": "code",
   "execution_count": null,
   "metadata": {},
   "outputs": [],
   "source": [
    "assert eval(convert(\"1 + 2 * 3 + 4 * 5 + 6\")) == 71\n",
    "assert eval(convert(\"1 + (2 * 3) + (4 * (5 + 6))\")) == 51\n",
    "assert eval(convert(\"((2 + 4 * 9) * (6 + 9 * 8 + 6) + 6) + 2 + 4 * 2\")) == 13632"
   ]
  },
  {
   "cell_type": "code",
   "execution_count": null,
   "metadata": {},
   "outputs": [],
   "source": [
    "def read(f):\n",
    "    return [line.rstrip() for line in open(f, 'r').readlines()]"
   ]
  },
  {
   "cell_type": "code",
   "execution_count": null,
   "metadata": {},
   "outputs": [],
   "source": [
    "def p1(lines): return sum(eval(convert(line)) for line in lines)"
   ]
  },
  {
   "cell_type": "code",
   "execution_count": null,
   "metadata": {},
   "outputs": [
    {
     "data": {
      "text/plain": [
       "5374004645253"
      ]
     },
     "execution_count": null,
     "metadata": {},
     "output_type": "execute_result"
    }
   ],
   "source": [
    "p1(read(\"./data/18.txt\"))"
   ]
  },
  {
   "cell_type": "markdown",
   "metadata": {},
   "source": [
    "## part 2"
   ]
  },
  {
   "cell_type": "code",
   "execution_count": null,
   "metadata": {},
   "outputs": [],
   "source": [
    "class N(int):\n",
    "    def __add__(self, x):\n",
    "        return N(int(self) * x)\n",
    "    def __mul__(self, x):\n",
    "        return N(int(self) + x)"
   ]
  },
  {
   "cell_type": "code",
   "execution_count": null,
   "metadata": {},
   "outputs": [],
   "source": [
    "def convert2(line):\n",
    "    result = line\n",
    "    result = result.replace(\"*\", \"-\")\n",
    "    result = result.replace(\"+\", \"*\")\n",
    "    result = result.replace(\"-\", \"+\")\n",
    "    for d in range(10):\n",
    "        result = result.replace(str(d), f\"N({d})\")\n",
    "    return result"
   ]
  },
  {
   "cell_type": "code",
   "execution_count": null,
   "metadata": {},
   "outputs": [
    {
     "data": {
      "text/plain": [
       "'N(1) * N(2) + N(3) * N(4) + N(5) * N(6)'"
      ]
     },
     "execution_count": null,
     "metadata": {},
     "output_type": "execute_result"
    }
   ],
   "source": [
    "convert2(\"1 + 2 * 3 + 4 * 5 + 6\")"
   ]
  },
  {
   "cell_type": "code",
   "execution_count": null,
   "metadata": {},
   "outputs": [],
   "source": [
    "assert eval(convert2(\"1 + 2 * 3 + 4 * 5 + 6\")) == 231\n",
    "assert eval(convert2(\"1 + (2 * 3) + (4 * (5 + 6))\")) == 51\n",
    "assert eval(convert2(\"((2 + 4 * 9) * (6 + 9 * 8 + 6) + 6) + 2 + 4 * 2\")) == 23340"
   ]
  },
  {
   "cell_type": "code",
   "execution_count": null,
   "metadata": {},
   "outputs": [],
   "source": [
    "def p2(lines): return sum(eval(convert2(line)) for line in lines)"
   ]
  },
  {
   "cell_type": "code",
   "execution_count": null,
   "metadata": {},
   "outputs": [
    {
     "data": {
      "text/plain": [
       "88782789402798"
      ]
     },
     "execution_count": null,
     "metadata": {},
     "output_type": "execute_result"
    }
   ],
   "source": [
    "p2(read(\"./data/18.txt\"))"
   ]
  },
  {
   "cell_type": "markdown",
   "metadata": {},
   "source": [
    "# Appendix"
   ]
  },
  {
   "cell_type": "markdown",
   "metadata": {},
   "source": [
    "There is an easier way to write a parser for part 2 ([borrowing a trick from Knuth's FORTRAN 1 compiler](https://en.wikipedia.org/wiki/Operator-precedence_parser#Alternative_methods)):\n",
    "\n",
    "```c\n",
    "#include <stdio.h>\n",
    "#include <string.h>\n",
    "\n",
    "int\n",
    "main(int argc, char *argv[]) {\n",
    "\tprintf(\"((\");\n",
    "\tfor (int i = 0; i < strlen(argv[1]); i++ ) {\n",
    "\t\tswitch (argv[1][i]) {\n",
    "\t\t\tcase '(': printf(\"((\"); break;\n",
    "\t\t\tcase ')': printf(\"))\"); break;\n",
    "\t\t\tcase '*': printf(\"))*((\"); break;\n",
    "\t\t\tcase '+': printf(\")+(\"); break;\n",
    "\t\t\tdefault:  printf(\"%c\", argv[1][i]); break;\n",
    "\t\t}\n",
    "\t}\n",
    "\tprintf(\"))\\n\");\n",
    "\treturn 0;\n",
    "}\n",
    "```\n",
    "\n",
    "This program output can then be piped into `bc`."
   ]
  }
 ],
 "metadata": {
  "kernelspec": {
   "display_name": "Python 3",
   "language": "python",
   "name": "python3"
  }
 },
 "nbformat": 4,
 "nbformat_minor": 4
}
