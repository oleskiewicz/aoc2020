{
 "cells": [
  {
   "cell_type": "markdown",
   "metadata": {},
   "source": [
    "# day 5"
   ]
  },
  {
   "cell_type": "code",
   "execution_count": null,
   "metadata": {},
   "outputs": [],
   "source": [
    "n_rows = 128\n",
    "n_cols = 8"
   ]
  },
  {
   "cell_type": "code",
   "execution_count": null,
   "metadata": {},
   "outputs": [],
   "source": [
    "def get_row(code):\n",
    "    row_upper = n_rows - 1\n",
    "    row_lower = 0\n",
    "\n",
    "    for c in code[:7]:\n",
    "        if c == \"F\":\n",
    "            row_upper = (row_upper + row_lower) // 2\n",
    "        if c == \"B\":\n",
    "            row_lower = ((row_upper + row_lower) // 2) + 1\n",
    "    #     print(c, row_lower, row_upper)\n",
    "    assert row_lower == row_upper\n",
    "    return row_lower"
   ]
  },
  {
   "cell_type": "code",
   "execution_count": null,
   "metadata": {},
   "outputs": [],
   "source": [
    "assert get_row(\"FBFBBFFRLR\") == 44"
   ]
  },
  {
   "cell_type": "code",
   "execution_count": null,
   "metadata": {},
   "outputs": [],
   "source": [
    "def get_col(code):\n",
    "    col_upper = n_cols - 1\n",
    "    col_lower = 0\n",
    "\n",
    "    for c in code[-3:]:\n",
    "        if c == \"L\":\n",
    "            col_upper = (col_upper + col_lower) // 2\n",
    "        if c == \"R\":\n",
    "            col_lower = ((col_upper + col_lower) // 2) + 1\n",
    "#         print(c, col_lower, col_upper)\n",
    "    assert col_lower == col_upper\n",
    "    return col_lower"
   ]
  },
  {
   "cell_type": "code",
   "execution_count": null,
   "metadata": {},
   "outputs": [],
   "source": [
    "assert get_col(\"FBFBBFFRLR\") == 5"
   ]
  },
  {
   "cell_type": "code",
   "execution_count": null,
   "metadata": {},
   "outputs": [],
   "source": [
    "def get_code(code):\n",
    "    return 8 * get_row(code) + get_col(code)"
   ]
  },
  {
   "cell_type": "code",
   "execution_count": null,
   "metadata": {},
   "outputs": [],
   "source": [
    "assert get_code(\"FBFBBFFRLR\") == 357  # row 44, column 5\n",
    "assert get_code(\"BFFFBBFRRR\") == 567  # row 70, column 7\n",
    "assert get_code(\"FFFBBBFRRR\") == 119  # row 14, column 7\n",
    "assert get_code(\"BBFFBBFRLL\") == 820  # row 102, column 4"
   ]
  },
  {
   "cell_type": "code",
   "execution_count": null,
   "metadata": {},
   "outputs": [],
   "source": [
    "def read(filename):\n",
    "    with open(filename, 'r') as f:\n",
    "        data = [line.strip() for line in f.readlines()]\n",
    "    return data"
   ]
  },
  {
   "cell_type": "code",
   "execution_count": null,
   "metadata": {},
   "outputs": [],
   "source": [
    "def p1(codes):\n",
    "    return max(get_code(code) for code in codes)"
   ]
  },
  {
   "cell_type": "code",
   "execution_count": null,
   "metadata": {},
   "outputs": [
    {
     "data": {
      "text/plain": [
       "928"
      ]
     },
     "execution_count": null,
     "metadata": {},
     "output_type": "execute_result"
    }
   ],
   "source": [
    "p1(read(\"./data/05.txt\"))"
   ]
  }
 ],
 "metadata": {
  "kernelspec": {
   "display_name": "Python 3",
   "language": "python",
   "name": "python3"
  }
 },
 "nbformat": 4,
 "nbformat_minor": 4
}
