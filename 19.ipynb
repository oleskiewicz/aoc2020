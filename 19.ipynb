{
 "cells": [
  {
   "cell_type": "markdown",
   "metadata": {},
   "source": [
    "# day 19"
   ]
  },
  {
   "cell_type": "code",
   "execution_count": null,
   "metadata": {},
   "outputs": [],
   "source": [
    "import re"
   ]
  },
  {
   "cell_type": "markdown",
   "metadata": {},
   "source": [
    "## part 1"
   ]
  },
  {
   "cell_type": "code",
   "execution_count": null,
   "metadata": {},
   "outputs": [],
   "source": [
    "def read(f):\n",
    "    rules, inputs = open(f, \"r\").read().split(\"\\n\\n\")\n",
    "    inputs = \" \".join(inputs.splitlines())\n",
    "    return rules, inputs"
   ]
  },
  {
   "cell_type": "code",
   "execution_count": null,
   "metadata": {},
   "outputs": [],
   "source": [
    "rules, inputs = read(\"./data/19_test.txt\")\n",
    "print(inputs)"
   ]
  },
  {
   "cell_type": "markdown",
   "metadata": {},
   "source": [
    "This is a hack, but it will work much easier than any Python solution (like recursively generating regular expressions, etc).  By relying on `yacc`, I can generate a grammar from the given set of rules (which are helpfully given in a format very similar to `yacc`'s own):"
   ]
  },
  {
   "cell_type": "code",
   "execution_count": null,
   "metadata": {},
   "outputs": [],
   "source": [
    "def gen_grammar(rules):\n",
    "    grammar = [\"start: r0 '\\\\n'; {printf(\\\"parsed\\\\n\\\"); exit(0);}\"]\n",
    "    for line in rules.splitlines():\n",
    "        line = re.sub(r\"(\\d+)\", r\"r\\1\", line)\n",
    "        grammar.append(line.replace('\"', \"'\")+';')\n",
    "    grammar = \"\\n\".join(grammar)\n",
    "    return grammar"
   ]
  },
  {
   "cell_type": "code",
   "execution_count": null,
   "metadata": {},
   "outputs": [],
   "source": [
    "grammar = gen_grammar(rules)\n",
    "print(grammar)"
   ]
  },
  {
   "cell_type": "markdown",
   "metadata": {},
   "source": [
    "What's left is to plug them inside a skeleton `yacc` parser, which will exit at improper inputs, and print something (in this case, \"parsed\") when given correct ones."
   ]
  },
  {
   "cell_type": "markdown",
   "metadata": {},
   "source": [
    "```c\n",
    "%{\n",
    "#include<stdio.h>\n",
    "#include<stdlib.h>\n",
    "%}\n",
    "\n",
    "%%\n",
    "\n",
    "start : r0 '\\n'            ; {printf(\"parsed\\n\"); exit(0);}\n",
    "r0 : r4 r1 r5              ;\n",
    "r1 : r2 r3 | r3 r2         ;\n",
    "r2 : r4 r4 | r5 r5         ;\n",
    "r3 : r4 r5 | r5 r4         ;\n",
    "r4 : \"a\"                   ;\n",
    "r5 : \"b\"                   ;\n",
    "\n",
    "%%\n",
    "\n",
    "void\n",
    "yyerror(char const *s)\n",
    "{\n",
    "\texit(1);\n",
    "}\n",
    "\n",
    "int\n",
    "yylex()\n",
    "{\n",
    "\tchar c = getchar();\n",
    "\treturn c;\n",
    "}\n",
    "\n",
    "int\n",
    "main()\n",
    "{\n",
    "\tyyparse();\n",
    "\treturn 0;\n",
    "}\n",
    "\n",
    "```"
   ]
  },
  {
   "cell_type": "markdown",
   "metadata": {},
   "source": [
    "This can then be compiled with\n",
    "\n",
    "    yacc ./test.y && cc -ll ./y.tab.c\n",
    "\n",
    "And executed:\n",
    "\n",
    "```sh\n",
    "for i in ababbb bababa abbbab aaabbb aaaabbb\n",
    "do\n",
    "    echo $i | ./a.out\n",
    "done | grep -c \"parsed\"\n",
    "\n",
    "       2\n",
    "```\n",
    "\n",
    "Which passes for the test case."
   ]
  },
  {
   "cell_type": "markdown",
   "metadata": {},
   "source": [
    "Compiling with above values returns `235`."
   ]
  }
 ],
 "metadata": {
  "kernelspec": {
   "display_name": "Python 3",
   "language": "python",
   "name": "python3"
  }
 },
 "nbformat": 4,
 "nbformat_minor": 2
}
