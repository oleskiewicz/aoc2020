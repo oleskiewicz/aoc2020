{
 "cells": [
  {
   "cell_type": "markdown",
   "metadata": {},
   "source": [
    "# day 23"
   ]
  },
  {
   "cell_type": "code",
   "execution_count": null,
   "metadata": {},
   "outputs": [],
   "source": [
    "from collections import deque\n",
    "from copy import deepcopy\n",
    "from tqdm import tqdm"
   ]
  },
  {
   "cell_type": "markdown",
   "metadata": {},
   "source": [
    "## part 1"
   ]
  },
  {
   "cell_type": "markdown",
   "metadata": {},
   "source": [
    "Find smaller thasn `c` element, or largest element:"
   ]
  },
  {
   "cell_type": "code",
   "execution_count": null,
   "metadata": {},
   "outputs": [],
   "source": [
    "def find_smaller_or_largest(x0, xs):\n",
    "    x = x0 - 1\n",
    "    while x > 0:\n",
    "        if xs.count(x) == 1:\n",
    "            return x\n",
    "        x -= 1\n",
    "    return max(xs)"
   ]
  },
  {
   "cell_type": "code",
   "execution_count": null,
   "metadata": {},
   "outputs": [],
   "source": [
    "assert find_smaller_or_largest(7, [7, 6, 4, 3]) == 6\n",
    "assert find_smaller_or_largest(6, [7, 6, 4, 3]) == 4\n",
    "assert find_smaller_or_largest(4, [7, 6, 4, 3]) == 3\n",
    "assert find_smaller_or_largest(3, [7, 6, 4, 3]) == 7"
   ]
  },
  {
   "cell_type": "code",
   "execution_count": null,
   "metadata": {},
   "outputs": [],
   "source": [
    "def find(x0, xs): return [i for (i, x) in enumerate(xs) if x == x0][0]"
   ]
  },
  {
   "cell_type": "code",
   "execution_count": null,
   "metadata": {},
   "outputs": [],
   "source": [
    "assert find(1, [1, 2, 3]) == 0"
   ]
  },
  {
   "cell_type": "code",
   "execution_count": null,
   "metadata": {},
   "outputs": [],
   "source": [
    "def deck(x): return deque(int(c) for c in x)"
   ]
  },
  {
   "cell_type": "code",
   "execution_count": null,
   "metadata": {},
   "outputs": [
    {
     "data": {
      "text/plain": [
       "deque([3, 8, 9, 1, 2, 5, 4, 6, 7])"
      ]
     },
     "execution_count": null,
     "metadata": {},
     "output_type": "execute_result"
    }
   ],
   "source": [
    "deck(\"389125467\")"
   ]
  },
  {
   "cell_type": "code",
   "execution_count": null,
   "metadata": {},
   "outputs": [],
   "source": [
    "def play(d, turns):\n",
    "    d2 = deepcopy(d)\n",
    "\n",
    "    # print(d2)\n",
    "    for turn in tqdm(range(turns)):\n",
    "        c = d2.popleft()\n",
    "        cs = d2.popleft(), d2.popleft(), d2.popleft()\n",
    "        i_dest = find(find_smaller_or_largest(c, d2), d2)\n",
    "\n",
    "        for i, _c in enumerate(cs):\n",
    "            d2.insert(i_dest + i + 1, _c)\n",
    "\n",
    "        d2.appendleft(c)\n",
    "        d2.rotate(-1)\n",
    "\n",
    "        # print(d2)\n",
    "\n",
    "    return d2"
   ]
  },
  {
   "cell_type": "code",
   "execution_count": null,
   "metadata": {},
   "outputs": [
    {
     "name": "stderr",
     "output_type": "stream",
     "text": [
      "100%|██████████| 10/10 [00:00<00:00, 23590.01it/s]\n"
     ]
    },
    {
     "data": {
      "text/plain": [
       "deque([8, 3, 7, 4, 1, 9, 2, 6, 5])"
      ]
     },
     "execution_count": null,
     "metadata": {},
     "output_type": "execute_result"
    }
   ],
   "source": [
    "play(deck(\"389125467\"), 10)"
   ]
  },
  {
   "cell_type": "code",
   "execution_count": null,
   "metadata": {},
   "outputs": [],
   "source": [
    "def p1(x, turns):\n",
    "    d = play(x, turns)\n",
    "\n",
    "    while d[0] != 1:\n",
    "        d.rotate()\n",
    "\n",
    "    return \"\".join(str(c) for c in d)[1:]"
   ]
  },
  {
   "cell_type": "code",
   "execution_count": null,
   "metadata": {},
   "outputs": [
    {
     "name": "stderr",
     "output_type": "stream",
     "text": [
      "100%|██████████| 10/10 [00:00<00:00, 4421.11it/s]\n",
      "100%|██████████| 100/100 [00:00<00:00, 53676.79it/s]\n"
     ]
    }
   ],
   "source": [
    "assert p1(deck(\"389125467\"), 10) == \"92658374\"\n",
    "assert p1(deck(\"389125467\"), 100) == \"67384529\""
   ]
  },
  {
   "cell_type": "code",
   "execution_count": null,
   "metadata": {},
   "outputs": [
    {
     "name": "stderr",
     "output_type": "stream",
     "text": [
      "100%|██████████| 100/100 [00:00<00:00, 66260.73it/s]\n"
     ]
    },
    {
     "data": {
      "text/plain": [
       "'52937846'"
      ]
     },
     "execution_count": null,
     "metadata": {},
     "output_type": "execute_result"
    }
   ],
   "source": [
    "p1(deck(\"463528179\"), 100)"
   ]
  },
  {
   "cell_type": "markdown",
   "metadata": {},
   "source": [
    "## part 2"
   ]
  },
  {
   "cell_type": "code",
   "execution_count": null,
   "metadata": {},
   "outputs": [],
   "source": [
    "def deck2(x, m):\n",
    "    d = deque(int(c) for c in x)\n",
    "    for c in range(max(d) + 1, max(d) + m + 1):\n",
    "        d.append(c)\n",
    "    return d"
   ]
  },
  {
   "cell_type": "code",
   "execution_count": null,
   "metadata": {},
   "outputs": [
    {
     "data": {
      "text/plain": [
       "deque([3, 8, 9, 1, 2, 5, 4, 6, 7])"
      ]
     },
     "execution_count": null,
     "metadata": {},
     "output_type": "execute_result"
    }
   ],
   "source": [
    "deck(\"389125467\")"
   ]
  },
  {
   "cell_type": "code",
   "execution_count": null,
   "metadata": {},
   "outputs": [
    {
     "data": {
      "text/plain": [
       "deque([3, 8, 9, 1, 2, 5, 4, 6, 7, 10, 11, 12, 13, 14, 15, 16, 17, 18, 19])"
      ]
     },
     "execution_count": null,
     "metadata": {},
     "output_type": "execute_result"
    }
   ],
   "source": [
    "deck2(\"389125467\", 10)"
   ]
  },
  {
   "cell_type": "code",
   "execution_count": null,
   "metadata": {},
   "outputs": [],
   "source": [
    "def p2(x, turns):\n",
    "    d = play(x, turns)\n",
    "\n",
    "    while d[0] != 1:\n",
    "        d.rotate()\n",
    "    \n",
    "    _ = d.popleft()\n",
    "    c1, c2 = d.popleft(), d.popleft()\n",
    "\n",
    "    return c1 * c2"
   ]
  },
  {
   "cell_type": "code",
   "execution_count": null,
   "metadata": {},
   "outputs": [],
   "source": [
    "# assert p2(deck2(\"389125467\", int(1e6)), int(10e6)) == 149245887792"
   ]
  },
  {
   "cell_type": "code",
   "execution_count": null,
   "metadata": {},
   "outputs": [],
   "source": [
    "# p2(deck2(\"463528179\", int(1e6)), int(10e6))"
   ]
  }
 ],
 "metadata": {
  "kernelspec": {
   "display_name": "Python 3",
   "language": "python",
   "name": "python3"
  }
 },
 "nbformat": 4,
 "nbformat_minor": 4
}
