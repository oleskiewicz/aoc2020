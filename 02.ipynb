{
 "cells": [
  {
   "cell_type": "markdown",
   "metadata": {},
   "source": [
    "# day 2"
   ]
  },
  {
   "cell_type": "code",
   "execution_count": null,
   "metadata": {},
   "outputs": [],
   "source": [
    "import re"
   ]
  },
  {
   "cell_type": "code",
   "execution_count": null,
   "metadata": {},
   "outputs": [],
   "source": [
    "def read(filename):\n",
    "    with open(filename, 'r') as f:\n",
    "        return [re.split(r'[-: ]', line) for line in f.readlines()]"
   ]
  },
  {
   "cell_type": "code",
   "execution_count": null,
   "metadata": {},
   "outputs": [
    {
     "data": {
      "text/plain": [
       "[['1', '3', 'a', '', 'abcde\\n'],\n",
       " ['1', '3', 'b', '', 'cdefg\\n'],\n",
       " ['2', '9', 'c', '', 'ccccccccc']]"
      ]
     },
     "execution_count": null,
     "metadata": {},
     "output_type": "execute_result"
    }
   ],
   "source": [
    "xs_test = read(\"./data/02_test.txt\")\n",
    "xs_test"
   ]
  },
  {
   "cell_type": "code",
   "execution_count": null,
   "metadata": {},
   "outputs": [],
   "source": [
    "def p1(xs):\n",
    "    result = 0\n",
    "    for x in xs:\n",
    "        count = 0\n",
    "        n_min, n_max, char, pwd = int(x[0]), int(x[1]), x[2], x[4].strip()\n",
    "        for c in pwd:\n",
    "            if c == char:\n",
    "                count += 1\n",
    "        if (count >= n_min) and (count <= n_max):\n",
    "            result += 1\n",
    "    return result"
   ]
  },
  {
   "cell_type": "code",
   "execution_count": null,
   "metadata": {},
   "outputs": [],
   "source": [
    "assert p1(xs_test) == 2"
   ]
  },
  {
   "cell_type": "code",
   "execution_count": null,
   "metadata": {},
   "outputs": [],
   "source": [
    "xs = read(\"./data/02.txt\")\n",
    "xs[0:3]"
   ]
  },
  {
   "cell_type": "code",
   "execution_count": null,
   "metadata": {},
   "outputs": [
    {
     "data": {
      "text/plain": [
       "607"
      ]
     },
     "execution_count": null,
     "metadata": {},
     "output_type": "execute_result"
    }
   ],
   "source": [
    "p1(xs)"
   ]
  },
  {
   "cell_type": "code",
   "execution_count": null,
   "metadata": {},
   "outputs": [],
   "source": [
    "def p2(xs):\n",
    "    result = 0\n",
    "    for x in xs:\n",
    "        count = 0\n",
    "        n1, n2, char, pwd = int(x[0]), int(x[1]), x[2], x[4].strip()\n",
    "        if pwd[n1 - 1] == char:\n",
    "            count += 1\n",
    "        if pwd[n2 - 1] == char:\n",
    "            count += 1\n",
    "        if count == 1:\n",
    "            result += 1\n",
    "    return result"
   ]
  },
  {
   "cell_type": "code",
   "execution_count": null,
   "metadata": {},
   "outputs": [],
   "source": [
    "assert p2(xs_test) == 1"
   ]
  },
  {
   "cell_type": "code",
   "execution_count": null,
   "metadata": {},
   "outputs": [
    {
     "data": {
      "text/plain": [
       "321"
      ]
     },
     "execution_count": null,
     "metadata": {},
     "output_type": "execute_result"
    }
   ],
   "source": [
    "p2(xs)"
   ]
  }
 ],
 "metadata": {
  "kernelspec": {
   "display_name": "Python 3",
   "language": "python",
   "name": "python3"
  }
 },
 "nbformat": 4,
 "nbformat_minor": 2
}
