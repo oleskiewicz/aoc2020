{
 "cells": [
  {
   "cell_type": "markdown",
   "metadata": {},
   "source": [
    "# day 3"
   ]
  },
  {
   "cell_type": "code",
   "execution_count": null,
   "metadata": {},
   "outputs": [],
   "source": [
    "def read(filename):\n",
    "    with open(filename, 'r') as f:\n",
    "        return [list(line.strip()) for line in f.readlines()]"
   ]
  },
  {
   "cell_type": "code",
   "execution_count": null,
   "metadata": {},
   "outputs": [
    {
     "data": {
      "text/plain": [
       "[['.', '.', '#', '#', '.', '.', '.', '.', '.', '.', '.'],\n",
       " ['#', '.', '.', '.', '#', '.', '.', '.', '#', '.', '.'],\n",
       " ['.', '#', '.', '.', '.', '.', '#', '.', '.', '#', '.'],\n",
       " ['.', '.', '#', '.', '#', '.', '.', '.', '#', '.', '#'],\n",
       " ['.', '#', '.', '.', '.', '#', '#', '.', '.', '#', '.'],\n",
       " ['.', '.', '#', '.', '#', '#', '.', '.', '.', '.', '.'],\n",
       " ['.', '#', '.', '#', '.', '#', '.', '.', '.', '.', '#'],\n",
       " ['.', '#', '.', '.', '.', '.', '.', '.', '.', '.', '#'],\n",
       " ['#', '.', '#', '#', '.', '.', '.', '#', '.', '.', '.'],\n",
       " ['#', '.', '.', '.', '#', '#', '.', '.', '.', '.', '#'],\n",
       " ['.', '#', '.', '.', '#', '.', '.', '.', '#', '.', '#']]"
      ]
     },
     "execution_count": null,
     "metadata": {},
     "output_type": "execute_result"
    }
   ],
   "source": [
    "X_test = read(\"./data/03_test.txt\")\n",
    "X_test"
   ]
  },
  {
   "cell_type": "code",
   "execution_count": null,
   "metadata": {},
   "outputs": [],
   "source": [
    "def p1(X, dx, dy):\n",
    "    x, y = 0, 0\n",
    "    count = 0\n",
    "    while y < len(X):\n",
    "        x += dx\n",
    "        y += dy\n",
    "        if y < len(X) and X[y][x % len(X[0])]=='#':\n",
    "            count += 1\n",
    "    return count"
   ]
  },
  {
   "cell_type": "code",
   "execution_count": null,
   "metadata": {},
   "outputs": [],
   "source": [
    "assert p1(X_test, 3, 1) == 7"
   ]
  },
  {
   "cell_type": "code",
   "execution_count": null,
   "metadata": {},
   "outputs": [],
   "source": [
    "X = read(\"./data/03.txt\")"
   ]
  },
  {
   "cell_type": "code",
   "execution_count": null,
   "metadata": {},
   "outputs": [
    {
     "data": {
      "text/plain": [
       "242"
      ]
     },
     "execution_count": null,
     "metadata": {},
     "output_type": "execute_result"
    }
   ],
   "source": [
    "p1(X, 3, 1)"
   ]
  },
  {
   "cell_type": "code",
   "execution_count": null,
   "metadata": {},
   "outputs": [],
   "source": [
    "from functools import reduce\n",
    "from operator import mul"
   ]
  },
  {
   "cell_type": "code",
   "execution_count": null,
   "metadata": {},
   "outputs": [],
   "source": [
    "def p2(X, slopes):\n",
    "    return reduce(mul, [p1(X, dx, dy) for (dx, dy) in slopes], 1)"
   ]
  },
  {
   "cell_type": "code",
   "execution_count": null,
   "metadata": {},
   "outputs": [],
   "source": [
    "assert p2(X_test, [(1, 1), (3, 1), (5, 1), (7, 1), (1, 2)]) == 336"
   ]
  },
  {
   "cell_type": "code",
   "execution_count": null,
   "metadata": {},
   "outputs": [
    {
     "data": {
      "text/plain": [
       "2265549792"
      ]
     },
     "execution_count": null,
     "metadata": {},
     "output_type": "execute_result"
    }
   ],
   "source": [
    "p2(X, [(1, 1), (3, 1), (5, 1), (7, 1), (1, 2)])"
   ]
  }
 ],
 "metadata": {
  "kernelspec": {
   "display_name": "Python 3",
   "language": "python",
   "name": "python3"
  }
 },
 "nbformat": 4,
 "nbformat_minor": 2
}
