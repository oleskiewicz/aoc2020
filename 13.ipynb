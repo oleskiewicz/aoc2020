{
 "cells": [
  {
   "cell_type": "markdown",
   "metadata": {},
   "source": [
    "# day 13"
   ]
  },
  {
   "cell_type": "code",
   "execution_count": null,
   "metadata": {},
   "outputs": [],
   "source": [
    "from operator import mul\n",
    "from functools import reduce"
   ]
  },
  {
   "cell_type": "markdown",
   "metadata": {},
   "source": [
    "## part 1"
   ]
  },
  {
   "cell_type": "code",
   "execution_count": null,
   "metadata": {},
   "outputs": [],
   "source": [
    "def read(f):\n",
    "    lines = [line.rstrip() for line in open(f, \"r\").readlines()]\n",
    "    t0 = int(lines[0])\n",
    "    ts = []\n",
    "    for i in lines[1].split(','):\n",
    "        if i == 'x':\n",
    "            continue\n",
    "        ts.append(int(i))\n",
    "    return (t0, ts)"
   ]
  },
  {
   "cell_type": "markdown",
   "metadata": {},
   "source": [
    "Find the smallest difference between remainder and a frequency:"
   ]
  },
  {
   "cell_type": "code",
   "execution_count": null,
   "metadata": {},
   "outputs": [],
   "source": [
    "def p1(t0, ts):\n",
    "    return reduce(mul, min([(t, t - (t0 % t)) for t in ts], key=lambda x: x[1]))"
   ]
  },
  {
   "cell_type": "code",
   "execution_count": null,
   "metadata": {},
   "outputs": [],
   "source": [
    "assert p1(*read(\"./data/13_test.txt\")) == 295"
   ]
  },
  {
   "cell_type": "code",
   "execution_count": null,
   "metadata": {},
   "outputs": [
    {
     "data": {
      "text/plain": [
       "2382"
      ]
     },
     "execution_count": null,
     "metadata": {},
     "output_type": "execute_result"
    }
   ],
   "source": [
    "p1(*read(\"./data/13.txt\"))"
   ]
  },
  {
   "cell_type": "markdown",
   "metadata": {},
   "source": [
    "## part 2"
   ]
  },
  {
   "cell_type": "markdown",
   "metadata": {},
   "source": [
    "First attempt, brute force:"
   ]
  },
  {
   "cell_type": "code",
   "execution_count": null,
   "metadata": {},
   "outputs": [],
   "source": [
    "def p2(a, n):\n",
    "    ans = a[0]\n",
    "    while True:\n",
    "        ans += n[0]\n",
    "        if all(((ans % _n) + _a) % _n == 0 for (_a, _n) in zip(a, n)):\n",
    "            break\n",
    "    return ans"
   ]
  },
  {
   "cell_type": "code",
   "execution_count": null,
   "metadata": {},
   "outputs": [],
   "source": [
    "assert p2([0, 3, 4], [3, 4, 5]) == 21\n",
    "assert p2([0, 1, 7, 6, 4], [7, 13, 19, 31, 59]) == 1068781\n",
    "assert p2([0, 1, 2, 3], [1789,37,47,1889]) == 1202161486"
   ]
  },
  {
   "cell_type": "markdown",
   "metadata": {},
   "source": [
    "This appears to work ($a$, $n$ symbols taken from Wikipedia's formulation of the [Chinese Remainder Theorem](https://en.wikipedia.org/wiki/Chinese_remainder_theorem#Computation))."
   ]
  },
  {
   "cell_type": "code",
   "execution_count": null,
   "metadata": {},
   "outputs": [],
   "source": [
    "def read2(f):\n",
    "    lines = [line.rstrip() for line in open(f, \"r\").readlines()]\n",
    "    times = []\n",
    "    for i, n in enumerate(lines[1].split(',')):\n",
    "        if n == 'x':\n",
    "            continue\n",
    "        n = int(n)\n",
    "        times.append((i, n))\n",
    "    return sorted(times, key=lambda x: x[1])[::-1]"
   ]
  },
  {
   "cell_type": "code",
   "execution_count": null,
   "metadata": {},
   "outputs": [],
   "source": [
    "xs = read2(\"./data/13.txt\")\n",
    "a, n = (\n",
    "    [i for i, _ in xs],\n",
    "    [j for _, j in xs],\n",
    ")"
   ]
  },
  {
   "cell_type": "markdown",
   "metadata": {},
   "source": [
    "Regretfully, brute force search is too slow for this, and I should implement a sieve instead if I re-visit this problem."
   ]
  }
 ],
 "metadata": {
  "kernelspec": {
   "display_name": "Python 3",
   "language": "python",
   "name": "python3"
  }
 },
 "nbformat": 4,
 "nbformat_minor": 4
}
