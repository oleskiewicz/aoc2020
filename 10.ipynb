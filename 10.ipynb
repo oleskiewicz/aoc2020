{
 "cells": [
  {
   "cell_type": "code",
   "execution_count": null,
   "metadata": {},
   "outputs": [],
   "source": [
    "# default_exp util"
   ]
  },
  {
   "cell_type": "markdown",
   "metadata": {},
   "source": [
    "# day 10"
   ]
  },
  {
   "cell_type": "markdown",
   "metadata": {},
   "source": [
    "## part 1"
   ]
  },
  {
   "cell_type": "code",
   "execution_count": null,
   "metadata": {},
   "outputs": [],
   "source": [
    "def read(f):\n",
    "    xs = sorted(int(x) for x in open(f, 'r'))\n",
    "    xs = [0,] + xs + [max(xs) + 3,]\n",
    "    return xs"
   ]
  },
  {
   "cell_type": "code",
   "execution_count": null,
   "metadata": {},
   "outputs": [
    {
     "data": {
      "text/plain": [
       "[0, 1, 4, 5, 6, 7, 10, 11, 12, 15, 16, 19, 22]"
      ]
     },
     "execution_count": null,
     "metadata": {},
     "output_type": "execute_result"
    }
   ],
   "source": [
    "xs_test_1 = sorted(int(x) for x in \"\"\"16\n",
    "10\n",
    "15\n",
    "5\n",
    "1\n",
    "11\n",
    "7\n",
    "19\n",
    "6\n",
    "12\n",
    "4\"\"\".split('\\n'))\n",
    "xs_test_1 = [0,] + xs_test_1 + [max(xs_test_1) + 3]\n",
    "xs_test_1"
   ]
  },
  {
   "cell_type": "markdown",
   "metadata": {},
   "source": [
    "    0 1 [2 3] 4 5 6 7 [8 9] 10 11 12 [13 14] 15 16 [17 18] 19 [20 21] 22"
   ]
  },
  {
   "cell_type": "code",
   "execution_count": null,
   "metadata": {},
   "outputs": [],
   "source": [
    "xs_test_2 = read(\"./data/10_test.txt\")"
   ]
  },
  {
   "cell_type": "code",
   "execution_count": null,
   "metadata": {},
   "outputs": [],
   "source": [
    "def missing(xs):\n",
    "    missing = []\n",
    "    for i in range(min(xs), max(xs) + 1):\n",
    "        if i not in xs:\n",
    "            missing = missing + [i,]\n",
    "    return missing"
   ]
  },
  {
   "cell_type": "code",
   "execution_count": null,
   "metadata": {},
   "outputs": [],
   "source": [
    "def threes(xs):\n",
    "    gaps = missing(xs)\n",
    "    return sum(\n",
    "        b - a == 1\n",
    "        for (a, b) in zip(gaps, gaps[1:])\n",
    "    )"
   ]
  },
  {
   "cell_type": "code",
   "execution_count": null,
   "metadata": {},
   "outputs": [],
   "source": [
    "def ones(xs):\n",
    "    return sum(\n",
    "        i in xs and i - 1 in xs\n",
    "        for i in range(min(xs), max(xs) + 1)\n",
    "    )"
   ]
  },
  {
   "cell_type": "markdown",
   "metadata": {},
   "source": [
    "Or, a bit faster(?):"
   ]
  },
  {
   "cell_type": "code",
   "execution_count": null,
   "metadata": {},
   "outputs": [],
   "source": [
    "def ones(xs):\n",
    "    return sum(\n",
    "        xs[i] + 1 == xs[i + 1]\n",
    "        for i, _ in enumerate(xs[:-1])\n",
    "    )"
   ]
  },
  {
   "cell_type": "code",
   "execution_count": null,
   "metadata": {},
   "outputs": [],
   "source": [
    "def p1(xs):\n",
    "    return ones(xs) * threes(xs)"
   ]
  },
  {
   "cell_type": "code",
   "execution_count": null,
   "metadata": {},
   "outputs": [],
   "source": [
    "assert p1(xs_test_1) == 5 * 7"
   ]
  },
  {
   "cell_type": "code",
   "execution_count": null,
   "metadata": {},
   "outputs": [],
   "source": [
    "assert p1(xs_test_2) == 10 * 22"
   ]
  },
  {
   "cell_type": "code",
   "execution_count": null,
   "metadata": {},
   "outputs": [],
   "source": [
    "xs = read(\"./data/10.txt\")"
   ]
  },
  {
   "cell_type": "code",
   "execution_count": null,
   "metadata": {},
   "outputs": [
    {
     "data": {
      "text/plain": [
       "2738"
      ]
     },
     "execution_count": null,
     "metadata": {},
     "output_type": "execute_result"
    }
   ],
   "source": [
    "p1(xs)"
   ]
  },
  {
   "cell_type": "markdown",
   "metadata": {},
   "source": [
    "## part 2"
   ]
  },
  {
   "cell_type": "markdown",
   "metadata": {},
   "source": [
    "Part 2 is a combinatorial problem: in how many ways can non-required adapters be removed from the sequence, such that there is never a gap of more than 3?"
   ]
  },
  {
   "cell_type": "markdown",
   "metadata": {},
   "source": [
    "For instance, example 1 has 1 group of 2 non-essential adapters and 1 group of 1:"
   ]
  },
  {
   "cell_type": "markdown",
   "metadata": {},
   "source": [
    "    (0) 1 4 [5 6] 7 10 [11] 12 15 16 19 (22)"
   ]
  },
  {
   "cell_type": "markdown",
   "metadata": {},
   "source": [
    "This means that total number of arrangements is $4 \\cdot 2 = 8$, because:\n",
    "- for a group of 1 (A), you can remokeep A or remove it: 2 combinations\n",
    "- group of 2 (AB): you can keep both AB, A, B, or neither: 4\n",
    "- group of 3 (ABC): you can keep adapter A, or B, or C, or AB, or BC, or AC, or AC, or neither: 7"
   ]
  },
  {
   "cell_type": "markdown",
   "metadata": {},
   "source": [
    "For example 2:"
   ]
  },
  {
   "cell_type": "markdown",
   "metadata": {},
   "source": [
    "    (0) 1 [2 3] 4 7 [8 9 10] 11 14 17 [18 19] 20 23 [24] 25 28 31 [32 33 34] 35 38 39 42 45 [46 47 48] 49 (52)"
   ]
  },
  {
   "cell_type": "code",
   "execution_count": null,
   "metadata": {},
   "outputs": [
    {
     "data": {
      "text/plain": [
       "10976"
      ]
     },
     "execution_count": null,
     "metadata": {},
     "output_type": "execute_result"
    }
   ],
   "source": [
    "4 * 7 * 4 * 2 * 7 * 7"
   ]
  },
  {
   "cell_type": "markdown",
   "metadata": {},
   "source": [
    "And for the full problem:"
   ]
  },
  {
   "cell_type": "markdown",
   "metadata": {},
   "source": [
    "    (0) 1 2 5 [6 7 8] 9 12 13 16 [17 18] 19 22 25 [26 27] 28 31 34 [35 36 37] 38 41 44 [45 46 47] 48 51 52 53 56 59 [60 61] 62 65 [66 67] 68 71 [72 73 74] 75 78 81 84 87 [88 89] 90 93 [94] 95 98 99 102 [103 104 105] 106 109 [110 111 112] 113 116 [117] 118 121 [122 123] 124 127 130 133 [134 135 136] 137 140 [141] 142 145 [146 147 148] 149 152 153 156 159 [160] 161 164 165 168 [169 170] 171 172 175 178 [179 180 181] 182 (185)"
   ]
  },
  {
   "cell_type": "code",
   "execution_count": null,
   "metadata": {},
   "outputs": [
    {
     "data": {
      "text/plain": [
       "10578455953408"
      ]
     },
     "execution_count": null,
     "metadata": {},
     "output_type": "execute_result"
    }
   ],
   "source": [
    "p2 = 7*4*4*7*7*4*4*7*4*2*7*7*2*4*7*2*7*2*4*7\n",
    "p2"
   ]
  },
  {
   "cell_type": "markdown",
   "metadata": {},
   "source": [
    "For input this size, counting by hand is still reasonable."
   ]
  },
  {
   "cell_type": "markdown",
   "metadata": {},
   "source": [
    "## both parts again"
   ]
  },
  {
   "cell_type": "code",
   "execution_count": null,
   "metadata": {},
   "outputs": [],
   "source": [
    "from operator import mul\n",
    "from functools import reduce\n",
    "from itertools import groupby\n",
    "from collections import defaultdict"
   ]
  },
  {
   "cell_type": "code",
   "execution_count": null,
   "metadata": {},
   "outputs": [],
   "source": [
    "# export\n",
    "def pairwise(xs):\n",
    "    return zip(xs, xs[1:])"
   ]
  },
  {
   "cell_type": "code",
   "execution_count": null,
   "metadata": {},
   "outputs": [],
   "source": [
    "# export\n",
    "def split(xs, at):\n",
    "    return [list(group) for k, group in groupby(xs, lambda x: x == at) if not k]"
   ]
  },
  {
   "cell_type": "markdown",
   "metadata": {},
   "source": [
    "Readable part 1:"
   ]
  },
  {
   "cell_type": "code",
   "execution_count": null,
   "metadata": {},
   "outputs": [],
   "source": [
    "def p1(xs):\n",
    "    return sum(\n",
    "        (b - a) == 1\n",
    "        for (a, b) in pairwise(xs)\n",
    "    ) * sum(\n",
    "        (b - a) == 3\n",
    "        for (a, b) in pairwise(xs)\n",
    "    )"
   ]
  },
  {
   "cell_type": "markdown",
   "metadata": {},
   "source": [
    "A bit more tacit part 1:"
   ]
  },
  {
   "cell_type": "code",
   "execution_count": null,
   "metadata": {},
   "outputs": [],
   "source": [
    "def p1(xs):\n",
    "    diffs = defaultdict(int)\n",
    "    for (a, b) in pairwise(xs):\n",
    "        diffs[b - a] += 1\n",
    "    return reduce(mul, diffs.values())"
   ]
  },
  {
   "cell_type": "code",
   "execution_count": null,
   "metadata": {},
   "outputs": [],
   "source": [
    "assert p1(xs_test_1) == 5 * 7"
   ]
  },
  {
   "cell_type": "code",
   "execution_count": null,
   "metadata": {},
   "outputs": [],
   "source": [
    "assert p1(xs_test_2) == 10 * 22"
   ]
  },
  {
   "cell_type": "code",
   "execution_count": null,
   "metadata": {},
   "outputs": [
    {
     "data": {
      "text/plain": [
       "2738"
      ]
     },
     "execution_count": null,
     "metadata": {},
     "output_type": "execute_result"
    }
   ],
   "source": [
    "p1(xs)"
   ]
  },
  {
   "cell_type": "markdown",
   "metadata": {},
   "source": [
    "What I tried to do by hand can be done by splitting the list of sorted differences and counting lengths of splits.\n",
    "\n",
    "Then, same mapping as last time, 3 to 7, 2 to 4, 1 to 2 (and 0 to 1).  Maybe it would be more elegant to use a defaultdict, but a string substitution and eval works as well:"
   ]
  },
  {
   "cell_type": "code",
   "execution_count": null,
   "metadata": {},
   "outputs": [],
   "source": [
    "def p2(xs):\n",
    "    return eval(\n",
    "        str([len(group) - 1 for group in split([b - a for (a, b) in pairwise(xs)], 3)])\n",
    "            .replace('[', '')\n",
    "            .replace(']', '')\n",
    "            .replace(',', '*')\n",
    "            .replace('3', '7')\n",
    "            .replace('2', '4')\n",
    "            .replace('1', '2')\n",
    "            .replace('0', '1')\n",
    "    )"
   ]
  },
  {
   "cell_type": "code",
   "execution_count": null,
   "metadata": {},
   "outputs": [],
   "source": [
    "assert p2(xs_test_1) == 8"
   ]
  },
  {
   "cell_type": "code",
   "execution_count": null,
   "metadata": {},
   "outputs": [],
   "source": [
    "assert p2(xs_test_2) == 19208"
   ]
  },
  {
   "cell_type": "code",
   "execution_count": null,
   "metadata": {},
   "outputs": [
    {
     "data": {
      "text/plain": [
       "74049191673856"
      ]
     },
     "execution_count": null,
     "metadata": {},
     "output_type": "execute_result"
    }
   ],
   "source": [
    "p2(xs)"
   ]
  }
 ],
 "metadata": {
  "kernelspec": {
   "display_name": "Python 3",
   "language": "python",
   "name": "python3"
  }
 },
 "nbformat": 4,
 "nbformat_minor": 4
}
